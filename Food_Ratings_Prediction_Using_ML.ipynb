{
 "cells": [
  {
   "cell_type": "code",
   "execution_count": null,
   "metadata": {
    "_cell_guid": "b1076dfc-b9ad-4769-8c92-a6c4dae69d19",
    "_uuid": "8f2839f25d086af736a60e9eeb907d3b93b6e0e5",
    "id": "RXcxxiaPCJnr"
   },
   "outputs": [],
   "source": [
    "import numpy as np # linear algebra\n",
    "import pandas as pd # data processing, CSV file I/O (e.g. pd.read_csv)"
   ]
  },
  {
   "cell_type": "code",
   "execution_count": null,
   "metadata": {
    "id": "BmlpOfasCJns"
   },
   "outputs": [],
   "source": [
    "train_data = pd.read_csv('/content/train.csv')\n",
    "test_data = pd.read_csv('/content/test.csv')"
   ]
  },
  {
   "cell_type": "code",
   "execution_count": null,
   "metadata": {
    "colab": {
     "base_uri": "https://localhost:8080/"
    },
    "id": "62C47YM4CJns",
    "outputId": "61a55553-ae1e-4811-b859-e2304f707967"
   },
   "outputs": [],
   "source": [
    "train_data.info()"
   ]
  },
  {
   "cell_type": "code",
   "execution_count": null,
   "metadata": {
    "colab": {
     "base_uri": "https://localhost:8080/"
    },
    "id": "7XyG3wH6CJnt",
    "outputId": "cf58ed6c-ec68-4b18-ecdd-3c35e68087a5"
   },
   "outputs": [],
   "source": [
    "train_data.shape"
   ]
  },
  {
   "cell_type": "code",
   "execution_count": null,
   "metadata": {
    "colab": {
     "base_uri": "https://localhost:8080/",
     "height": 486
    },
    "id": "rA0PiJ89CJnt",
    "outputId": "9ba936a7-ea57-4d34-a114-7603e96759cc"
   },
   "outputs": [],
   "source": [
    "train_data.head()"
   ]
  },
  {
   "cell_type": "code",
   "execution_count": null,
   "metadata": {
    "id": "AdbaEW5OCJnu"
   },
   "outputs": [],
   "source": [
    "import matplotlib.pyplot as plt\n",
    "import seaborn as sns"
   ]
  },
  {
   "cell_type": "code",
   "execution_count": null,
   "metadata": {
    "id": "p0IJp7sbCJnu"
   },
   "outputs": [],
   "source": [
    "train_data.drop('RecipeNumber',axis=1,inplace=True)\n",
    "train_data.drop('CommentID',axis=1,inplace=True)\n",
    "train_data.drop('UserReputation',axis=1,inplace=True)\n",
    "train_data.drop('ReplyCount',axis=1,inplace=True)\n",
    "train_data.drop('ThumbsUpCount',axis=1,inplace=True)\n",
    "train_data.drop('ThumbsDownCount',axis=1,inplace=True)\n",
    "train_data.drop('BestScore',axis=1,inplace=True)\n",
    "train_data.drop('CreationTimestamp',axis=1,inplace=True)\n",
    "train_data.drop('UserName',axis=1,inplace=True)"
   ]
  },
  {
   "cell_type": "code",
   "execution_count": null,
   "metadata": {
    "id": "ApAgmjXwCJnv"
   },
   "outputs": [],
   "source": [
    "# train_data.drop('RecipeName',axis=1,inplace=True)"
   ]
  },
  {
   "cell_type": "code",
   "execution_count": null,
   "metadata": {
    "colab": {
     "base_uri": "https://localhost:8080/"
    },
    "id": "4v8og0IGCJnv",
    "outputId": "1fdf0761-3b65-4e7f-fb9b-4e7758f011e3"
   },
   "outputs": [],
   "source": [
    "train_data.info()"
   ]
  },
  {
   "cell_type": "code",
   "execution_count": null,
   "metadata": {
    "colab": {
     "base_uri": "https://localhost:8080/",
     "height": 300
    },
    "id": "Py2FXab4CJnv",
    "outputId": "1230c260-5bb0-42fa-9092-ef6288a28348"
   },
   "outputs": [],
   "source": [
    "train_data.describe()"
   ]
  },
  {
   "cell_type": "code",
   "execution_count": null,
   "metadata": {
    "colab": {
     "base_uri": "https://localhost:8080/",
     "height": 206
    },
    "id": "Y7ZWvnEwCJnv",
    "outputId": "9906a234-7356-43b3-cbfd-1ab1ea8e7b28"
   },
   "outputs": [],
   "source": [
    "train_data.head()"
   ]
  },
  {
   "cell_type": "code",
   "execution_count": null,
   "metadata": {
    "colab": {
     "base_uri": "https://localhost:8080/",
     "height": 272
    },
    "id": "WBPeaHm3CJnv",
    "outputId": "a8f11a55-64d0-450c-c27c-073461147d14"
   },
   "outputs": [],
   "source": [
    "train_data.isnull().sum()"
   ]
  },
  {
   "cell_type": "code",
   "execution_count": null,
   "metadata": {
    "id": "QKmuwrL7CJnw"
   },
   "outputs": [],
   "source": [
    "train_data.dropna(subset=['ID','RecipeCode','RecipeName','UserID','Recipe_Review', 'Rating'], inplace=True)"
   ]
  },
  {
   "cell_type": "code",
   "execution_count": null,
   "metadata": {
    "colab": {
     "base_uri": "https://localhost:8080/",
     "height": 272
    },
    "id": "q4lajM9vCJnw",
    "outputId": "19ce0125-ab70-47de-b852-78489492c09f"
   },
   "outputs": [],
   "source": [
    "train_data.isnull().sum()"
   ]
  },
  {
   "cell_type": "code",
   "execution_count": null,
   "metadata": {
    "colab": {
     "base_uri": "https://localhost:8080/",
     "height": 303
    },
    "id": "BZax8xjLCJnw",
    "outputId": "5d2b6732-17af-4f57-a2d7-2471dfc88748"
   },
   "outputs": [],
   "source": [
    "train_data['Rating'].value_counts()"
   ]
  },
  {
   "cell_type": "code",
   "execution_count": null,
   "metadata": {
    "id": "PL8aQK-ACJnw"
   },
   "outputs": [],
   "source": [
    "test_data = pd.read_csv('/content/test.csv')"
   ]
  },
  {
   "cell_type": "code",
   "execution_count": null,
   "metadata": {
    "colab": {
     "base_uri": "https://localhost:8080/"
    },
    "id": "OBMZPcGsCJnw",
    "outputId": "2438144e-0d3d-4934-c6ce-32713ef6eed8"
   },
   "outputs": [],
   "source": [
    "test_data.info()"
   ]
  },
  {
   "cell_type": "code",
   "execution_count": null,
   "metadata": {
    "id": "G-oF1j6BCJnw"
   },
   "outputs": [],
   "source": [
    "test_data.drop('RecipeNumber',axis=1,inplace=True)\n",
    "test_data.drop('CommentID',axis=1,inplace=True)\n",
    "test_data.drop('UserName',axis=1,inplace=True)\n",
    "test_data.drop('UserReputation',axis=1,inplace=True)\n",
    "test_data.drop('CreationTimestamp',axis=1,inplace=True)\n",
    "test_data.drop('ReplyCount',axis=1,inplace=True)\n",
    "test_data.drop('ThumbsUpCount',axis=1,inplace=True)\n",
    "test_data.drop('ThumbsDownCount',axis=1,inplace=True)\n",
    "test_data.drop('BestScore',axis=1,inplace=True)"
   ]
  },
  {
   "cell_type": "code",
   "execution_count": null,
   "metadata": {
    "id": "6b83yac0CJnw"
   },
   "outputs": [],
   "source": [
    "# test_data.drop('RecipeName',axis=1,inplace=True)"
   ]
  },
  {
   "cell_type": "code",
   "execution_count": null,
   "metadata": {
    "colab": {
     "base_uri": "https://localhost:8080/"
    },
    "id": "LoHnoVYxCJnw",
    "outputId": "5784b0ea-37b6-48da-8124-716691755c28"
   },
   "outputs": [],
   "source": [
    "test_data.info()"
   ]
  },
  {
   "cell_type": "code",
   "execution_count": null,
   "metadata": {
    "colab": {
     "base_uri": "https://localhost:8080/",
     "height": 241
    },
    "id": "6q78OdVoCJnx",
    "outputId": "0edf7681-85c4-4976-a09b-b29a9adc0077"
   },
   "outputs": [],
   "source": [
    "test_data.isnull().sum()"
   ]
  },
  {
   "cell_type": "code",
   "execution_count": null,
   "metadata": {
    "id": "NMy2UYo_CJnx"
   },
   "outputs": [],
   "source": [
    "from sklearn.preprocessing import MinMaxScaler, OneHotEncoder\n",
    "from sklearn.compose import ColumnTransformer\n",
    "from sklearn.pipeline import Pipeline"
   ]
  },
  {
   "cell_type": "code",
   "execution_count": null,
   "metadata": {
    "colab": {
     "base_uri": "https://localhost:8080/"
    },
    "id": "l160Us4ICJnx",
    "outputId": "bb531cba-05f4-4be4-8967-2e4b30069970"
   },
   "outputs": [],
   "source": [
    "cat_cols = train_data.select_dtypes(include='object').columns\n",
    "print(cat_cols)"
   ]
  },
  {
   "cell_type": "code",
   "execution_count": null,
   "metadata": {
    "colab": {
     "base_uri": "https://localhost:8080/"
    },
    "id": "BNqCPnuMCJnx",
    "outputId": "dd4fa07d-50ef-4784-8eea-05d3e3af522e"
   },
   "outputs": [],
   "source": [
    "num_cols = train_data.select_dtypes(include=['int64', 'float64']).columns\n",
    "print(num_cols)"
   ]
  },
  {
   "cell_type": "code",
   "execution_count": null,
   "metadata": {
    "colab": {
     "base_uri": "https://localhost:8080/",
     "height": 1000
    },
    "id": "ZzP4Lgq9CJnx",
    "outputId": "14d1b1ac-5b29-4446-c55e-5c5381c6391f"
   },
   "outputs": [],
   "source": [
    "for col in num_cols:\n",
    "    plt.figure(figsize=(8, 6))\n",
    "    plt.hist(train_data[col], bins=20, color='skyblue', edgecolor='black')\n",
    "    plt.title(f'Histogram of {col}')\n",
    "    plt.xlabel(col)\n",
    "    plt.ylabel('Frequency')\n",
    "    plt.grid(True)\n",
    "    plt.show()"
   ]
  },
  {
   "cell_type": "code",
   "execution_count": null,
   "metadata": {
    "colab": {
     "base_uri": "https://localhost:8080/",
     "height": 1000
    },
    "id": "pKm3k4OFCJnx",
    "outputId": "92357024-2d75-4f9d-8eab-370f526c233b"
   },
   "outputs": [],
   "source": [
    "for col in num_cols:\n",
    "    plt.figure(figsize=(8, 6))\n",
    "    plt.boxplot(train_data[col], patch_artist=True, showmeans=True)\n",
    "    plt.title(f'Boxplot of {col}')\n",
    "    plt.xlabel(col)\n",
    "    plt.ylabel('Value')\n",
    "    plt.grid(True)\n",
    "    plt.show()"
   ]
  },
  {
   "cell_type": "code",
   "execution_count": null,
   "metadata": {
    "colab": {
     "base_uri": "https://localhost:8080/",
     "height": 751
    },
    "id": "O2i4A47_CJnx",
    "outputId": "da81f941-536d-4c31-e58f-0fb63d9dd970"
   },
   "outputs": [],
   "source": [
    "train_data.hist(bins = 100, edgecolor = 'lime', figsize=(14,8))"
   ]
  },
  {
   "cell_type": "code",
   "execution_count": null,
   "metadata": {
    "id": "w9WVWRFHCJnx"
   },
   "outputs": [],
   "source": [
    "y = train_data['Rating']"
   ]
  },
  {
   "cell_type": "code",
   "execution_count": null,
   "metadata": {
    "id": "_68hFMX8CJny"
   },
   "outputs": [],
   "source": [
    "train_data.drop(columns=['Rating'], inplace=True)"
   ]
  },
  {
   "cell_type": "code",
   "execution_count": null,
   "metadata": {
    "id": "kovolGOsCJny"
   },
   "outputs": [],
   "source": [
    "num_cols = num_cols.drop('Rating')"
   ]
  },
  {
   "cell_type": "code",
   "execution_count": null,
   "metadata": {
    "id": "2BTJxzVkCJny"
   },
   "outputs": [],
   "source": [
    "categorical_transformer = Pipeline(steps=[('onehot', OneHotEncoder(handle_unknown='ignore'))])\n",
    "\n",
    "preprocessor = ColumnTransformer(\n",
    "    transformers=[\n",
    "        ('num', 'passthrough', num_cols),\n",
    "        ('cat', categorical_transformer, cat_cols)\n",
    "    ])\n",
    "\n",
    "\n",
    "pipeline = Pipeline(steps=[('preprocessor', preprocessor)])\n",
    "\n",
    "train_data_processed = pipeline.fit_transform(train_data)"
   ]
  },
  {
   "cell_type": "code",
   "execution_count": null,
   "metadata": {
    "id": "JRb15ik-CJny"
   },
   "outputs": [],
   "source": [
    "test_data_processed = pipeline.transform(test_data)"
   ]
  },
  {
   "cell_type": "code",
   "execution_count": null,
   "metadata": {
    "colab": {
     "base_uri": "https://localhost:8080/"
    },
    "id": "vm170HxyCJny",
    "outputId": "212378d3-eb16-4723-fd38-07070d16b05c"
   },
   "outputs": [],
   "source": [
    "correlation = train_data['ID'].corr(y)\n",
    "print(\"Correlation between ID and Rating:\", correlation)\n",
    "correlation = train_data['RecipeCode'].corr(y)\n",
    "print(\"Correlation between RecipeCode and Rating:\", correlation)\n",
    "\n",
    "# correlation = train_data['RecipeName'].corr(y)\n",
    "# print(\"Correlation between RecipeName and Rating:\", correlation)\n",
    "# correlation = train_data['UserID'].corr(y)\n",
    "# print(\"Correlation between UserID and Rating:\", correlation)\n",
    "# correlation = train_data['Recipe_Review'].corr(y)\n",
    "# print(\"Correlation between Recipe_Review and Rating:\", correlation)"
   ]
  },
  {
   "cell_type": "code",
   "execution_count": null,
   "metadata": {
    "id": "h1UjaHJsCJn2"
   },
   "outputs": [],
   "source": [
    "from sklearn.model_selection import train_test_split, GridSearchCV\n",
    "from sklearn.ensemble import RandomForestClassifier\n",
    "from sklearn.metrics import accuracy_score"
   ]
  },
  {
   "cell_type": "code",
   "execution_count": null,
   "metadata": {
    "id": "wxLgPvOMCJn2"
   },
   "outputs": [],
   "source": [
    "X = train_data_processed"
   ]
  },
  {
   "cell_type": "code",
   "execution_count": null,
   "metadata": {
    "id": "wfuUdlPUCJn2"
   },
   "outputs": [],
   "source": [
    "X_train, X_val, y_train, y_val = train_test_split(X, y, test_size=0.2, random_state=42)"
   ]
  },
  {
   "cell_type": "code",
   "execution_count": null,
   "metadata": {
    "id": "4GxhJefXCJn3"
   },
   "outputs": [],
   "source": [
    "rf_classifier = RandomForestClassifier()\n",
    "\n",
    "param_grid = {\n",
    "    'n_estimators': [100, 200, 300],\n",
    "    'max_depth': [None, 10, 20],\n",
    "    'min_samples_split': [2, 5, 10],\n",
    "    'min_samples_leaf': [1, 2, 4]\n",
    "}\n",
    "\n",
    "grid_search = GridSearchCV(estimator=rf_classifier, param_grid=param_grid, cv=5, n_jobs=-1, verbose=2)"
   ]
  },
  {
   "cell_type": "code",
   "execution_count": null,
   "metadata": {
    "colab": {
     "base_uri": "https://localhost:8080/"
    },
    "id": "K82Ca8BOCJn3",
    "outputId": "2afb7b0d-cb22-423f-c7a1-015c9ed1f45d"
   },
   "outputs": [],
   "source": [
    "grid_search.fit(X_train, y_train)\n",
    "\n",
    "# Step 7: Evaluate the model's performance on the validation set\n",
    "# Get the best estimator from the grid search\n",
    "best_rf_classifier = grid_search.best_estimator_\n",
    "\n",
    "# Predict ratings on the validation set\n",
    "y_pred_val = best_rf_classifier.predict(X_val)"
   ]
  },
  {
   "cell_type": "code",
   "execution_count": null,
   "metadata": {
    "id": "yixBC7Z-CJn3"
   },
   "outputs": [],
   "source": [
    "accuracy = accuracy_score(y_val, y_pred_val)\n",
    "print(\"Accuracy on validation set:\", accuracy)"
   ]
  },
  {
   "cell_type": "code",
   "execution_count": null,
   "metadata": {
    "id": "V1rAwt8VCJn3"
   },
   "outputs": [],
   "source": [
    "print(best_rf_classifier)"
   ]
  },
  {
   "cell_type": "code",
   "execution_count": null,
   "metadata": {
    "id": "KUyYvUpeCJn3"
   },
   "outputs": [],
   "source": [
    "y_pred_test_rf = best_rf_classifier.predict(test_data_processed)"
   ]
  },
  {
   "cell_type": "code",
   "execution_count": null,
   "metadata": {
    "id": "ILaVIwLpCJn3"
   },
   "outputs": [],
   "source": [
    "from sklearn.model_selection import KFold\n",
    "from sklearn.linear_model import LogisticRegression\n",
    "from sklearn.pipeline import make_pipeline\n",
    "from sklearn.preprocessing import StandardScaler\n",
    "\n",
    "# Define the pipeline\n",
    "pipeline = make_pipeline(StandardScaler(with_mean=False), LogisticRegression(max_iter=1000))\n",
    "\n",
    "# Define the parameter grid\n",
    "param_grid = {\n",
    "    'logisticregression__C': [0.001, 0.01, 0.1, 1, 10, 100],  # Regularization parameter\n",
    "}\n",
    "\n",
    "# Define the number of folds for cross-validation\n",
    "num_folds = [5, 10, 15]\n",
    "\n",
    "for folds in num_folds:\n",
    "    print(f\"\\nNumber of Folds: {folds}\\n\")\n",
    "\n",
    "    # Perform cross-validation with hyperparameter tuning\n",
    "    grid_search = GridSearchCV(pipeline, param_grid, cv=KFold(n_splits=folds, shuffle=True, random_state=42), verbose=2, scoring='accuracy')\n",
    "\n",
    "    # Fit the model\n",
    "    grid_search.fit(X_train, y_train)\n",
    "\n",
    "    # Get the best estimator from the grid search\n",
    "    best_logistic_regression = grid_search.best_estimator_\n",
    "\n",
    "    # Predict ratings on the validation set\n",
    "    y_pred_val = best_logistic_regression.predict(X_val)\n",
    "\n",
    "    # Print the best hyperparameters\n",
    "    print(\"Best hyperparameters:\", grid_search.best_params_)\n",
    "\n",
    "    # Print the accuracy score\n",
    "    accuracy = accuracy_score(y_val, y_pred_val)\n",
    "    print(\"Accuracy:\", accuracy)"
   ]
  },
  {
   "cell_type": "code",
   "execution_count": null,
   "metadata": {
    "id": "z7vChB64CJn3"
   },
   "outputs": [],
   "source": [
    "# Predict ratings on the test set\n",
    "y_pred_test_lr = best_logistic_regression.predict(test_data_processed)"
   ]
  },
  {
   "cell_type": "code",
   "execution_count": null,
   "metadata": {
    "id": "_vXqPjvzCJn3"
   },
   "outputs": [],
   "source": [
    "from sklearn.neighbors import KNeighborsClassifier\n",
    "\n",
    "# Define the KNN classifier\n",
    "knn_classifier = KNeighborsClassifier()\n",
    "\n",
    "# Define the parameter grid\n",
    "param_grid_knn = {\n",
    "    'n_neighbors': [3, 5, 7, 9, 11],  # Number of neighbors\n",
    "    'weights': ['uniform', 'distance'],  # Weight function used in prediction\n",
    "}\n",
    "\n",
    "# Different values of cross-validation\n",
    "cv_values = [5, 10, 15]\n",
    "\n",
    "for cv in cv_values:\n",
    "    print(f\"\\nNumber of Folds: {cv}\\n\")\n",
    "\n",
    "    # Perform grid search with cross-validation\n",
    "    grid_search_knn = GridSearchCV(knn_classifier, param_grid_knn, cv=cv, scoring='accuracy', verbose=2, n_jobs=-1)\n",
    "\n",
    "    # Fit the grid search to the data\n",
    "    grid_search_knn.fit(X_train, y_train)\n",
    "\n",
    "    # Get the best KNN model\n",
    "    best_knn_model = grid_search_knn.best_estimator_\n",
    "\n",
    "    # Print the best hyperparameters\n",
    "    print(\"Best hyperparameters for KNN:\", grid_search_knn.best_params_)\n",
    "\n",
    "    # Predict ratings on the validation set\n",
    "    y_pred_val_knn = best_knn_model.predict(X_val)\n",
    "\n",
    "    # Calculate accuracy\n",
    "    accuracy_knn = accuracy_score(y_val, y_pred_val_knn)\n",
    "    print(\"Accuracy for KNN:\", accuracy_knn)"
   ]
  },
  {
   "cell_type": "code",
   "execution_count": null,
   "metadata": {
    "id": "up8x9Z41CJn3"
   },
   "outputs": [],
   "source": [
    "# Predict ratings on the test set\n",
    "y_pred_test_knn = best_knn_model.predict(test_data_processed)"
   ]
  },
  {
   "cell_type": "code",
   "execution_count": null,
   "metadata": {
    "id": "XWnorpAfCJn4"
   },
   "outputs": [],
   "source": [
    "from sklearn.svm import SVC\n",
    "\n",
    "# Define the SVM classifier\n",
    "svm_classifier = SVC()\n",
    "\n",
    "# Define the parameter grid\n",
    "param_grid_svm = {\n",
    "    'C': [0.1, 1, 10, 100],  # Regularization parameter\n",
    "    'gamma': ['scale', 'auto'],  # Kernel coefficient\n",
    "}\n",
    "\n",
    "# Different values of cross-validation\n",
    "cv_values = [5, 10, 15]\n",
    "\n",
    "for cv in cv_values:\n",
    "    print(f\"\\nNumber of Folds: {cv}\\n\")\n",
    "\n",
    "    # Perform grid search with cross-validation\n",
    "    grid_search_svm = GridSearchCV(svm_classifier, param_grid_svm, cv=cv, scoring='accuracy', verbose=2, n_jobs=-1)\n",
    "\n",
    "    # Fit the grid search to the data\n",
    "    grid_search_svm.fit(X_train, y_train)\n",
    "\n",
    "    # Get the best SVM model\n",
    "    best_svm_model = grid_search_svm.best_estimator_\n",
    "\n",
    "    # Print the best hyperparameters\n",
    "    print(\"Best hyperparameters for SVM:\", grid_search_svm.best_params_)\n",
    "\n",
    "    # Predict ratings on the validation set\n",
    "    y_pred_val_svm = best_svm_model.predict(X_val)\n",
    "\n",
    "    # Calculate accuracy\n",
    "    accuracy_svm = accuracy_score(y_val, y_pred_val_svm)\n",
    "    print(\"Accuracy for SVM:\", accuracy_svm)"
   ]
  },
  {
   "cell_type": "code",
   "execution_count": null,
   "metadata": {
    "id": "0nNHih34CJn4"
   },
   "outputs": [],
   "source": [
    "# Predict ratings on the test set\n",
    "y_pred_test_svm = best_svm_model.predict(test_data_processed)"
   ]
  },
  {
   "cell_type": "code",
   "execution_count": null,
   "metadata": {
    "id": "M4U5BvDjCJn4"
   },
   "outputs": [],
   "source": [
    "# Define the number of folds for cross-validation\n",
    "num_folds = [4, 8, 12, 15]"
   ]
  },
  {
   "cell_type": "code",
   "execution_count": null,
   "metadata": {
    "id": "XryUEKAtCJn4"
   },
   "outputs": [],
   "source": [
    "from sklearn.tree import DecisionTreeClassifier\n",
    "\n",
    "# Define the Decision Tree classifier\n",
    "dt_classifier = DecisionTreeClassifier()\n",
    "\n",
    "# Define the parameter grid\n",
    "param_grid_dt = {\n",
    "    'max_depth': [None, 5, 10, 15, 20, 30],\n",
    "    'min_samples_split': [2, 5, 10],\n",
    "    'min_samples_leaf': [1, 2, 4]\n",
    "}\n",
    "\n",
    "# Define the number of folds for cross-validation\n",
    "num_folds = [4, 8, 12, 15]\n",
    "\n",
    "for folds in num_folds:\n",
    "    print(f\"\\nNumber of Folds: {folds}\\n\")\n",
    "\n",
    "    # Perform cross-validation with hyperparameter tuning\n",
    "    grid_search_dt = GridSearchCV(dt_classifier, param_grid_dt, cv=folds, verbose=2, scoring='accuracy')\n",
    "\n",
    "    # Fit the model\n",
    "    grid_search_dt.fit(X_train, y_train)\n",
    "\n",
    "    # Get the best estimator from the grid search\n",
    "    best_dt_classifier = grid_search_dt.best_estimator_\n",
    "\n",
    "    # Predict ratings on the validation set\n",
    "    y_pred_val_dt = best_dt_classifier.predict(X_val)\n",
    "\n",
    "    # Print the best hyperparameters\n",
    "    print(\"Best hyperparameters:\", grid_search_dt.best_params_)\n",
    "\n",
    "    # Print the accuracy score\n",
    "    accuracy_dt = accuracy_score(y_val, y_pred_val_dt)\n",
    "    print(\"Accuracy:\", accuracy_dt)"
   ]
  },
  {
   "cell_type": "code",
   "execution_count": null,
   "metadata": {
    "id": "vF5KY07xCJn4"
   },
   "outputs": [],
   "source": [
    "# Predict ratings on the test set\n",
    "y_pred_test_dt = best_dt_classifier.predict(test_data_processed)"
   ]
  },
  {
   "cell_type": "code",
   "execution_count": null,
   "metadata": {
    "id": "5iEFR_1XCJn4"
   },
   "outputs": [],
   "source": [
    "from sklearn.ensemble import BaggingClassifier\n",
    "\n",
    "# Define the base classifier for Bagging\n",
    "base_classifier = DecisionTreeClassifier()\n",
    "\n",
    "# Define the Bagging classifier\n",
    "bagging_classifier = BaggingClassifier(base_estimator=base_classifier)\n",
    "\n",
    "# Define the parameter grid\n",
    "param_grid_bagging = {\n",
    "    'n_estimators': [10, 20, 30],\n",
    "    'max_samples': [0.5, 0.7, 1.0],\n",
    "    'max_features': [0.5, 0.7, 1.0]\n",
    "}\n",
    "\n",
    "for folds in num_folds:\n",
    "    print(f\"\\nNumber of Folds: {folds}\\n\")\n",
    "\n",
    "    # Perform cross-validation with hyperparameter tuning\n",
    "    grid_search_bagging = GridSearchCV(bagging_classifier, param_grid_bagging, cv=folds, verbose=2, scoring='accuracy')\n",
    "\n",
    "    # Fit the model\n",
    "    grid_search_bagging.fit(X_train, y_train)\n",
    "\n",
    "    # Get the best estimator from the grid search\n",
    "    best_bagging_classifier = grid_search_bagging.best_estimator_\n",
    "\n",
    "    # Predict ratings on the validation set\n",
    "    y_pred_val_bagging = best_bagging_classifier.predict(X_val)\n",
    "\n",
    "    # Print the best hyperparameters\n",
    "    print(\"Best hyperparameters:\", grid_search_bagging.best_params_)\n",
    "\n",
    "    # Print the accuracy score\n",
    "    accuracy_bagging = accuracy_score(y_val, y_pred_val_bagging)\n",
    "    print(\"Accuracy:\", accuracy_bagging)"
   ]
  },
  {
   "cell_type": "code",
   "execution_count": null,
   "metadata": {
    "id": "i5IsBfmICJn4"
   },
   "outputs": [],
   "source": [
    "# Predict ratings on the test set\n",
    "y_pred_test_bagging = best_bagging_classifier.predict(test_data_processed)"
   ]
  },
  {
   "cell_type": "code",
   "execution_count": null,
   "metadata": {
    "id": "Zf-d2ur9CJn5"
   },
   "outputs": [],
   "source": [
    "from sklearn.neural_network import MLPClassifier\n",
    "\n",
    "# Define the MLP classifier\n",
    "mlp_classifier = MLPClassifier()\n",
    "\n",
    "# Define the parameter grid\n",
    "param_grid_mlp = {\n",
    "    'hidden_layer_sizes': [(50,), (100,), (50, 50), (100, 100)],\n",
    "    'activation': ['relu', 'tanh', 'logistic'],\n",
    "    'solver': ['adam', 'sgd'],\n",
    "    'alpha': [0.0001, 0.001, 0.01],\n",
    "    'learning_rate': ['constant', 'adaptive']\n",
    "}\n",
    "\n",
    "for folds in num_folds:\n",
    "    print(f\"\\nNumber of Folds: {folds}\\n\")\n",
    "\n",
    "    # Perform cross-validation with hyperparameter tuning\n",
    "    grid_search_mlp = GridSearchCV(mlp_classifier, param_grid_mlp, cv=folds, verbose=2, scoring='accuracy')\n",
    "\n",
    "    # Fit the model\n",
    "    grid_search_mlp.fit(X_train, y_train)\n",
    "\n",
    "    # Get the best estimator from the grid search\n",
    "    best_mlp_classifier = grid_search_mlp.best_estimator_\n",
    "\n",
    "    # Predict ratings on the validation set\n",
    "    y_pred_val_mlp = best_mlp_classifier.predict(X_val)\n",
    "\n",
    "    # Print the best hyperparameters\n",
    "    print(\"Best hyperparameters:\", grid_search_mlp.best_params_)\n",
    "\n",
    "    # Print the accuracy score\n",
    "    accuracy_mlp = accuracy_score(y_val, y_pred_val_mlp)\n",
    "    print(\"Accuracy:\", accuracy_mlp)"
   ]
  },
  {
   "cell_type": "code",
   "execution_count": null,
   "metadata": {
    "id": "zvvAxp1LCJn5"
   },
   "outputs": [],
   "source": [
    "# Predict ratings on the test set\n",
    "y_pred_test_mlp = best_mlp_classifier.predict(test_data_processed)"
   ]
  },
  {
   "cell_type": "code",
   "execution_count": null,
   "metadata": {
    "id": "w4YFm4nhCJn5"
   },
   "outputs": [],
   "source": [
    "# Models and their accuracy scores\n",
    "# RandomForestClassifier Model - 0.77298\n",
    "# LogisticRegression Model - 0.76748\n",
    "# KNN Model - 0.76088\n",
    "# SVM Model - 0.76638\n",
    "# DecisionTree Model - 0.76440\n",
    "# RandomForestClassifier Model (without RecipeName column) - 0.76880"
   ]
  },
  {
   "cell_type": "code",
   "execution_count": null,
   "metadata": {
    "id": "VfvmZdpgCJn5"
   },
   "outputs": [],
   "source": [
    "submission = pd.DataFrame(columns=[\"ID\", \"Rating\"])\n",
    "submission[\"ID\"] = [i for i in range(1,len(y_pred_test_rf)+1)]\n",
    "submission[\"Rating\"] = y_pred_test_rf\n",
    "\n",
    "# Save the submission file\n",
    "submission.to_csv('submission.csv', index=False)"
   ]
  }
 ],
 "metadata": {
  "colab": {
   "name": "21f1001547-notebook-t12024",
   "provenance": []
  },
  "kaggle": {
   "accelerator": "none",
   "dataSources": [
    {
     "databundleVersionId": 7452256,
     "sourceId": 67079,
     "sourceType": "competition"
    }
   ],
   "dockerImageVersionId": 30646,
   "isGpuEnabled": false,
   "isInternetEnabled": true,
   "language": "python",
   "sourceType": "notebook"
  },
  "kernelspec": {
   "display_name": "Python 3",
   "language": "python",
   "name": "python3"
  },
  "language_info": {
   "codemirror_mode": {
    "name": "ipython",
    "version": 3
   },
   "file_extension": ".py",
   "mimetype": "text/x-python",
   "name": "python",
   "nbconvert_exporter": "python",
   "pygments_lexer": "ipython3",
   "version": "3.10.13"
  }
 },
 "nbformat": 4,
 "nbformat_minor": 0
}
