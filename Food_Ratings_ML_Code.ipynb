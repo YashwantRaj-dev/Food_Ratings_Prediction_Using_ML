{
  "cells": [
    {
      "cell_type": "code",
      "execution_count": null,
      "metadata": {
        "_cell_guid": "b1076dfc-b9ad-4769-8c92-a6c4dae69d19",
        "_uuid": "8f2839f25d086af736a60e9eeb907d3b93b6e0e5",
        "execution": {
          "iopub.execute_input": "2024-03-31T13:43:53.10157Z",
          "iopub.status.busy": "2024-03-31T13:43:53.100965Z",
          "iopub.status.idle": "2024-03-31T13:43:54.459036Z",
          "shell.execute_reply": "2024-03-31T13:43:54.457558Z",
          "shell.execute_reply.started": "2024-03-31T13:43:53.101536Z"
        },
        "id": "RXcxxiaPCJnr",
        "trusted": true
      },
      "outputs": [],
      "source": [
        "import numpy as np # linear algebra\n",
        "import pandas as pd # data processing, CSV file I/O (e.g. pd.read_csv)"
      ]
    },
    {
      "cell_type": "code",
      "execution_count": 8,
      "metadata": {
        "execution": {
          "iopub.execute_input": "2024-03-31T13:51:23.361115Z",
          "iopub.status.busy": "2024-03-31T13:51:23.360417Z",
          "iopub.status.idle": "2024-03-31T13:51:23.645914Z",
          "shell.execute_reply": "2024-03-31T13:51:23.64448Z",
          "shell.execute_reply.started": "2024-03-31T13:51:23.36108Z"
        },
        "id": "BmlpOfasCJns",
        "trusted": true
      },
      "outputs": [],
      "source": [
        "train_data = pd.read_csv('/content/train.csv')\n",
        "test_data = pd.read_csv('/content/test.csv')"
      ]
    },
    {
      "cell_type": "code",
      "execution_count": 9,
      "metadata": {
        "colab": {
          "base_uri": "https://localhost:8080/"
        },
        "execution": {
          "iopub.execute_input": "2024-03-31T13:51:27.170302Z",
          "iopub.status.busy": "2024-03-31T13:51:27.168948Z",
          "iopub.status.idle": "2024-03-31T13:51:27.215015Z",
          "shell.execute_reply": "2024-03-31T13:51:27.213835Z",
          "shell.execute_reply.started": "2024-03-31T13:51:27.170262Z"
        },
        "id": "62C47YM4CJns",
        "outputId": "61a55553-ae1e-4811-b859-e2304f707967",
        "trusted": true
      },
      "outputs": [
        {
          "name": "stdout",
          "output_type": "stream",
          "text": [
            "<class 'pandas.core.frame.DataFrame'>\n",
            "RangeIndex: 13636 entries, 0 to 13635\n",
            "Data columns (total 15 columns):\n",
            " #   Column             Non-Null Count  Dtype \n",
            "---  ------             --------------  ----- \n",
            " 0   ID                 13636 non-null  int64 \n",
            " 1   RecipeNumber       13636 non-null  int64 \n",
            " 2   RecipeCode         13636 non-null  int64 \n",
            " 3   RecipeName         13636 non-null  object\n",
            " 4   CommentID          13636 non-null  object\n",
            " 5   UserID             13636 non-null  object\n",
            " 6   UserName           13636 non-null  object\n",
            " 7   UserReputation     13636 non-null  int64 \n",
            " 8   CreationTimestamp  13636 non-null  int64 \n",
            " 9   ReplyCount         13636 non-null  int64 \n",
            " 10  ThumbsUpCount      13636 non-null  int64 \n",
            " 11  ThumbsDownCount    13636 non-null  int64 \n",
            " 12  Rating             13636 non-null  int64 \n",
            " 13  BestScore          13636 non-null  int64 \n",
            " 14  Recipe_Review      13634 non-null  object\n",
            "dtypes: int64(10), object(5)\n",
            "memory usage: 1.6+ MB\n"
          ]
        }
      ],
      "source": [
        "train_data.info()"
      ]
    },
    {
      "cell_type": "code",
      "execution_count": 10,
      "metadata": {
        "colab": {
          "base_uri": "https://localhost:8080/"
        },
        "execution": {
          "iopub.execute_input": "2024-03-31T13:51:31.505983Z",
          "iopub.status.busy": "2024-03-31T13:51:31.505512Z",
          "iopub.status.idle": "2024-03-31T13:51:31.515377Z",
          "shell.execute_reply": "2024-03-31T13:51:31.513867Z",
          "shell.execute_reply.started": "2024-03-31T13:51:31.50594Z"
        },
        "id": "7XyG3wH6CJnt",
        "outputId": "cf58ed6c-ec68-4b18-ecdd-3c35e68087a5",
        "trusted": true
      },
      "outputs": [
        {
          "data": {
            "text/plain": [
              "(13636, 15)"
            ]
          },
          "execution_count": 10,
          "metadata": {},
          "output_type": "execute_result"
        }
      ],
      "source": [
        "train_data.shape"
      ]
    },
    {
      "cell_type": "code",
      "execution_count": 11,
      "metadata": {
        "colab": {
          "base_uri": "https://localhost:8080/",
          "height": 486
        },
        "execution": {
          "iopub.execute_input": "2024-03-31T13:51:37.373679Z",
          "iopub.status.busy": "2024-03-31T13:51:37.373226Z",
          "iopub.status.idle": "2024-03-31T13:51:37.398992Z",
          "shell.execute_reply": "2024-03-31T13:51:37.397799Z",
          "shell.execute_reply.started": "2024-03-31T13:51:37.373649Z"
        },
        "id": "rA0PiJ89CJnt",
        "outputId": "9ba936a7-ea57-4d34-a114-7603e96759cc",
        "trusted": true
      },
      "outputs": [
        {
          "data": {
            "application/vnd.google.colaboratory.intrinsic+json": {
              "summary": "{\n  \"name\": \"train_data\",\n  \"rows\": 13636,\n  \"fields\": [\n    {\n      \"column\": \"ID\",\n      \"properties\": {\n        \"dtype\": \"number\",\n        \"std\": 116,\n        \"min\": 0,\n        \"max\": 724,\n        \"num_unique_values\": 701,\n        \"samples\": [\n          472,\n          94,\n          195\n        ],\n        \"semantic_type\": \"\",\n        \"description\": \"\"\n      }\n    },\n    {\n      \"column\": \"RecipeNumber\",\n      \"properties\": {\n        \"dtype\": \"number\",\n        \"std\": 29,\n        \"min\": 1,\n        \"max\": 100,\n        \"num_unique_values\": 100,\n        \"samples\": [\n          99,\n          75,\n          58\n        ],\n        \"semantic_type\": \"\",\n        \"description\": \"\"\n      }\n    },\n    {\n      \"column\": \"RecipeCode\",\n      \"properties\": {\n        \"dtype\": \"number\",\n        \"std\": 23883,\n        \"min\": 386,\n        \"max\": 191775,\n        \"num_unique_values\": 100,\n        \"samples\": [\n          191775,\n          38183,\n          32248\n        ],\n        \"semantic_type\": \"\",\n        \"description\": \"\"\n      }\n    },\n    {\n      \"column\": \"RecipeName\",\n      \"properties\": {\n        \"dtype\": \"category\",\n        \"num_unique_values\": 100,\n        \"samples\": [\n          \"Egg Roll Noodle Bowl\",\n          \"Baked Tilapia\",\n          \"Smothered Chicken Breasts\"\n        ],\n        \"semantic_type\": \"\",\n        \"description\": \"\"\n      }\n    },\n    {\n      \"column\": \"CommentID\",\n      \"properties\": {\n        \"dtype\": \"string\",\n        \"num_unique_values\": 13636,\n        \"samples\": [\n          \"sp_aUSaElGf_7178_c_260266\",\n          \"sp_aUSaElGf_27675_c_136066\",\n          \"sp_aUSaElGf_6086_c_227718\"\n        ],\n        \"semantic_type\": \"\",\n        \"description\": \"\"\n      }\n    },\n    {\n      \"column\": \"UserID\",\n      \"properties\": {\n        \"dtype\": \"string\",\n        \"num_unique_values\": 10783,\n        \"samples\": [\n          \"u_1oKcMP7Wqg03jnBOCMGHANAb9ls\",\n          \"u_1oKdH7YlkFOiGGgOshSyoaldQC3\",\n          \"u_1oKXklmKIgwCpZ802tv9oOKbmcO\"\n        ],\n        \"semantic_type\": \"\",\n        \"description\": \"\"\n      }\n    },\n    {\n      \"column\": \"UserName\",\n      \"properties\": {\n        \"dtype\": \"string\",\n        \"num_unique_values\": 10620,\n        \"samples\": [\n          \"angiemoves\",\n          \"Susan3158\",\n          \"Christy L\"\n        ],\n        \"semantic_type\": \"\",\n        \"description\": \"\"\n      }\n    },\n    {\n      \"column\": \"UserReputation\",\n      \"properties\": {\n        \"dtype\": \"number\",\n        \"std\": 10,\n        \"min\": 0,\n        \"max\": 510,\n        \"num_unique_values\": 20,\n        \"samples\": [\n          20,\n          130,\n          220\n        ],\n        \"semantic_type\": \"\",\n        \"description\": \"\"\n      }\n    },\n    {\n      \"column\": \"CreationTimestamp\",\n      \"properties\": {\n        \"dtype\": \"number\",\n        \"std\": 5444020,\n        \"min\": 1613035336,\n        \"max\": 1665756035,\n        \"num_unique_values\": 2422,\n        \"samples\": [\n          1622718427,\n          1622717755,\n          1622718082\n        ],\n        \"semantic_type\": \"\",\n        \"description\": \"\"\n      }\n    },\n    {\n      \"column\": \"ReplyCount\",\n      \"properties\": {\n        \"dtype\": \"number\",\n        \"std\": 0,\n        \"min\": 0,\n        \"max\": 3,\n        \"num_unique_values\": 4,\n        \"samples\": [\n          1,\n          3,\n          0\n        ],\n        \"semantic_type\": \"\",\n        \"description\": \"\"\n      }\n    },\n    {\n      \"column\": \"ThumbsUpCount\",\n      \"properties\": {\n        \"dtype\": \"number\",\n        \"std\": 4,\n        \"min\": 0,\n        \"max\": 80,\n        \"num_unique_values\": 57,\n        \"samples\": [\n          0,\n          5,\n          55\n        ],\n        \"semantic_type\": \"\",\n        \"description\": \"\"\n      }\n    },\n    {\n      \"column\": \"ThumbsDownCount\",\n      \"properties\": {\n        \"dtype\": \"number\",\n        \"std\": 3,\n        \"min\": 0,\n        \"max\": 126,\n        \"num_unique_values\": 51,\n        \"samples\": [\n          104,\n          46,\n          22\n        ],\n        \"semantic_type\": \"\",\n        \"description\": \"\"\n      }\n    },\n    {\n      \"column\": \"Rating\",\n      \"properties\": {\n        \"dtype\": \"number\",\n        \"std\": 1,\n        \"min\": 0,\n        \"max\": 5,\n        \"num_unique_values\": 6,\n        \"samples\": [\n          5,\n          3,\n          1\n        ],\n        \"semantic_type\": \"\",\n        \"description\": \"\"\n      }\n    },\n    {\n      \"column\": \"BestScore\",\n      \"properties\": {\n        \"dtype\": \"number\",\n        \"std\": 140,\n        \"min\": 0,\n        \"max\": 946,\n        \"num_unique_values\": 525,\n        \"samples\": [\n          491,\n          168,\n          530\n        ],\n        \"semantic_type\": \"\",\n        \"description\": \"\"\n      }\n    },\n    {\n      \"column\": \"Recipe_Review\",\n      \"properties\": {\n        \"dtype\": \"string\",\n        \"num_unique_values\": 13370,\n        \"samples\": [\n          \"Just once I&#39;d like to see one of these recipes serve fewer than an army. Maybe have one that serves two or three once and awhile.\",\n          \"Delicious. The whole family loved it. Like a very moist cornbread with some whole kernels in it.\",\n          \"This was great!  I didn&#39;t have green peppers, so I omitted them, but it was still great.  Pretty simple to make too.\"\n        ],\n        \"semantic_type\": \"\",\n        \"description\": \"\"\n      }\n    }\n  ]\n}",
              "type": "dataframe",
              "variable_name": "train_data"
            },
            "text/html": [
              "\n",
              "  <div id=\"df-c8b964bb-51e8-421c-84a1-680ae81344fd\" class=\"colab-df-container\">\n",
              "    <div>\n",
              "<style scoped>\n",
              "    .dataframe tbody tr th:only-of-type {\n",
              "        vertical-align: middle;\n",
              "    }\n",
              "\n",
              "    .dataframe tbody tr th {\n",
              "        vertical-align: top;\n",
              "    }\n",
              "\n",
              "    .dataframe thead th {\n",
              "        text-align: right;\n",
              "    }\n",
              "</style>\n",
              "<table border=\"1\" class=\"dataframe\">\n",
              "  <thead>\n",
              "    <tr style=\"text-align: right;\">\n",
              "      <th></th>\n",
              "      <th>ID</th>\n",
              "      <th>RecipeNumber</th>\n",
              "      <th>RecipeCode</th>\n",
              "      <th>RecipeName</th>\n",
              "      <th>CommentID</th>\n",
              "      <th>UserID</th>\n",
              "      <th>UserName</th>\n",
              "      <th>UserReputation</th>\n",
              "      <th>CreationTimestamp</th>\n",
              "      <th>ReplyCount</th>\n",
              "      <th>ThumbsUpCount</th>\n",
              "      <th>ThumbsDownCount</th>\n",
              "      <th>Rating</th>\n",
              "      <th>BestScore</th>\n",
              "      <th>Recipe_Review</th>\n",
              "    </tr>\n",
              "  </thead>\n",
              "  <tbody>\n",
              "    <tr>\n",
              "      <th>0</th>\n",
              "      <td>70</td>\n",
              "      <td>71</td>\n",
              "      <td>12259</td>\n",
              "      <td>Banana Bars with Cream Cheese Frosting</td>\n",
              "      <td>sp_aUSaElGf_12259_c_149978</td>\n",
              "      <td>u_1oKVaBmiEKwAFyiHrDLoWpbel0J</td>\n",
              "      <td>misscoffeepot</td>\n",
              "      <td>20</td>\n",
              "      <td>1622717078</td>\n",
              "      <td>0</td>\n",
              "      <td>0</td>\n",
              "      <td>0</td>\n",
              "      <td>5</td>\n",
              "      <td>100</td>\n",
              "      <td>great recipe! I have made them just as written...</td>\n",
              "    </tr>\n",
              "    <tr>\n",
              "      <th>1</th>\n",
              "      <td>72</td>\n",
              "      <td>88</td>\n",
              "      <td>8202</td>\n",
              "      <td>Simple Taco Soup</td>\n",
              "      <td>sp_aUSaElGf_8202_c_310332</td>\n",
              "      <td>u_1oKZeRIXYzGNhGW8OMR3O4lX1ih</td>\n",
              "      <td>MichelleMalone</td>\n",
              "      <td>1</td>\n",
              "      <td>1622717852</td>\n",
              "      <td>0</td>\n",
              "      <td>0</td>\n",
              "      <td>1</td>\n",
              "      <td>5</td>\n",
              "      <td>100</td>\n",
              "      <td>This is an easy and quick recipe that is great...</td>\n",
              "    </tr>\n",
              "    <tr>\n",
              "      <th>2</th>\n",
              "      <td>458</td>\n",
              "      <td>3</td>\n",
              "      <td>2832</td>\n",
              "      <td>Cheeseburger Soup</td>\n",
              "      <td>sp_aUSaElGf_2832_c_206522</td>\n",
              "      <td>u_1oKYHUtdaD48KJCDYq5wfpAUxWz</td>\n",
              "      <td>jeannem32</td>\n",
              "      <td>1</td>\n",
              "      <td>1622717357</td>\n",
              "      <td>0</td>\n",
              "      <td>0</td>\n",
              "      <td>0</td>\n",
              "      <td>3</td>\n",
              "      <td>100</td>\n",
              "      <td>I think I was looking for something extra spec...</td>\n",
              "    </tr>\n",
              "    <tr>\n",
              "      <th>3</th>\n",
              "      <td>7</td>\n",
              "      <td>50</td>\n",
              "      <td>100276</td>\n",
              "      <td>Grilled Huli Huli Chicken</td>\n",
              "      <td>sp_aUSaElGf_100276_c_434088</td>\n",
              "      <td>u_1oKZCQcKQZdQhDVBS7oISc216VA</td>\n",
              "      <td>ds422</td>\n",
              "      <td>1</td>\n",
              "      <td>1622648899</td>\n",
              "      <td>0</td>\n",
              "      <td>0</td>\n",
              "      <td>0</td>\n",
              "      <td>5</td>\n",
              "      <td>100</td>\n",
              "      <td>This is our favorite grilled chicken recipe.  ...</td>\n",
              "    </tr>\n",
              "    <tr>\n",
              "      <th>4</th>\n",
              "      <td>60</td>\n",
              "      <td>12</td>\n",
              "      <td>19731</td>\n",
              "      <td>Cauliflower Soup</td>\n",
              "      <td>sp_aUSaElGf_19731_c_387011</td>\n",
              "      <td>u_1oKd4sudZQPgu6YALiC7bW7mKMs</td>\n",
              "      <td>SusanHoward</td>\n",
              "      <td>1</td>\n",
              "      <td>1622718260</td>\n",
              "      <td>0</td>\n",
              "      <td>0</td>\n",
              "      <td>0</td>\n",
              "      <td>4</td>\n",
              "      <td>100</td>\n",
              "      <td>Great basic recipe. I added 2 teaspoons Tuscan...</td>\n",
              "    </tr>\n",
              "  </tbody>\n",
              "</table>\n",
              "</div>\n",
              "    <div class=\"colab-df-buttons\">\n",
              "\n",
              "  <div class=\"colab-df-container\">\n",
              "    <button class=\"colab-df-convert\" onclick=\"convertToInteractive('df-c8b964bb-51e8-421c-84a1-680ae81344fd')\"\n",
              "            title=\"Convert this dataframe to an interactive table.\"\n",
              "            style=\"display:none;\">\n",
              "\n",
              "  <svg xmlns=\"http://www.w3.org/2000/svg\" height=\"24px\" viewBox=\"0 -960 960 960\">\n",
              "    <path d=\"M120-120v-720h720v720H120Zm60-500h600v-160H180v160Zm220 220h160v-160H400v160Zm0 220h160v-160H400v160ZM180-400h160v-160H180v160Zm440 0h160v-160H620v160ZM180-180h160v-160H180v160Zm440 0h160v-160H620v160Z\"/>\n",
              "  </svg>\n",
              "    </button>\n",
              "\n",
              "  <style>\n",
              "    .colab-df-container {\n",
              "      display:flex;\n",
              "      gap: 12px;\n",
              "    }\n",
              "\n",
              "    .colab-df-convert {\n",
              "      background-color: #E8F0FE;\n",
              "      border: none;\n",
              "      border-radius: 50%;\n",
              "      cursor: pointer;\n",
              "      display: none;\n",
              "      fill: #1967D2;\n",
              "      height: 32px;\n",
              "      padding: 0 0 0 0;\n",
              "      width: 32px;\n",
              "    }\n",
              "\n",
              "    .colab-df-convert:hover {\n",
              "      background-color: #E2EBFA;\n",
              "      box-shadow: 0px 1px 2px rgba(60, 64, 67, 0.3), 0px 1px 3px 1px rgba(60, 64, 67, 0.15);\n",
              "      fill: #174EA6;\n",
              "    }\n",
              "\n",
              "    .colab-df-buttons div {\n",
              "      margin-bottom: 4px;\n",
              "    }\n",
              "\n",
              "    [theme=dark] .colab-df-convert {\n",
              "      background-color: #3B4455;\n",
              "      fill: #D2E3FC;\n",
              "    }\n",
              "\n",
              "    [theme=dark] .colab-df-convert:hover {\n",
              "      background-color: #434B5C;\n",
              "      box-shadow: 0px 1px 3px 1px rgba(0, 0, 0, 0.15);\n",
              "      filter: drop-shadow(0px 1px 2px rgba(0, 0, 0, 0.3));\n",
              "      fill: #FFFFFF;\n",
              "    }\n",
              "  </style>\n",
              "\n",
              "    <script>\n",
              "      const buttonEl =\n",
              "        document.querySelector('#df-c8b964bb-51e8-421c-84a1-680ae81344fd button.colab-df-convert');\n",
              "      buttonEl.style.display =\n",
              "        google.colab.kernel.accessAllowed ? 'block' : 'none';\n",
              "\n",
              "      async function convertToInteractive(key) {\n",
              "        const element = document.querySelector('#df-c8b964bb-51e8-421c-84a1-680ae81344fd');\n",
              "        const dataTable =\n",
              "          await google.colab.kernel.invokeFunction('convertToInteractive',\n",
              "                                                    [key], {});\n",
              "        if (!dataTable) return;\n",
              "\n",
              "        const docLinkHtml = 'Like what you see? Visit the ' +\n",
              "          '<a target=\"_blank\" href=https://colab.research.google.com/notebooks/data_table.ipynb>data table notebook</a>'\n",
              "          + ' to learn more about interactive tables.';\n",
              "        element.innerHTML = '';\n",
              "        dataTable['output_type'] = 'display_data';\n",
              "        await google.colab.output.renderOutput(dataTable, element);\n",
              "        const docLink = document.createElement('div');\n",
              "        docLink.innerHTML = docLinkHtml;\n",
              "        element.appendChild(docLink);\n",
              "      }\n",
              "    </script>\n",
              "  </div>\n",
              "\n",
              "\n",
              "    <div id=\"df-9c9b4dd1-8afe-4ba5-b7a5-94863146d7e6\">\n",
              "      <button class=\"colab-df-quickchart\" onclick=\"quickchart('df-9c9b4dd1-8afe-4ba5-b7a5-94863146d7e6')\"\n",
              "                title=\"Suggest charts\"\n",
              "                style=\"display:none;\">\n",
              "\n",
              "<svg xmlns=\"http://www.w3.org/2000/svg\" height=\"24px\"viewBox=\"0 0 24 24\"\n",
              "     width=\"24px\">\n",
              "    <g>\n",
              "        <path d=\"M19 3H5c-1.1 0-2 .9-2 2v14c0 1.1.9 2 2 2h14c1.1 0 2-.9 2-2V5c0-1.1-.9-2-2-2zM9 17H7v-7h2v7zm4 0h-2V7h2v10zm4 0h-2v-4h2v4z\"/>\n",
              "    </g>\n",
              "</svg>\n",
              "      </button>\n",
              "\n",
              "<style>\n",
              "  .colab-df-quickchart {\n",
              "      --bg-color: #E8F0FE;\n",
              "      --fill-color: #1967D2;\n",
              "      --hover-bg-color: #E2EBFA;\n",
              "      --hover-fill-color: #174EA6;\n",
              "      --disabled-fill-color: #AAA;\n",
              "      --disabled-bg-color: #DDD;\n",
              "  }\n",
              "\n",
              "  [theme=dark] .colab-df-quickchart {\n",
              "      --bg-color: #3B4455;\n",
              "      --fill-color: #D2E3FC;\n",
              "      --hover-bg-color: #434B5C;\n",
              "      --hover-fill-color: #FFFFFF;\n",
              "      --disabled-bg-color: #3B4455;\n",
              "      --disabled-fill-color: #666;\n",
              "  }\n",
              "\n",
              "  .colab-df-quickchart {\n",
              "    background-color: var(--bg-color);\n",
              "    border: none;\n",
              "    border-radius: 50%;\n",
              "    cursor: pointer;\n",
              "    display: none;\n",
              "    fill: var(--fill-color);\n",
              "    height: 32px;\n",
              "    padding: 0;\n",
              "    width: 32px;\n",
              "  }\n",
              "\n",
              "  .colab-df-quickchart:hover {\n",
              "    background-color: var(--hover-bg-color);\n",
              "    box-shadow: 0 1px 2px rgba(60, 64, 67, 0.3), 0 1px 3px 1px rgba(60, 64, 67, 0.15);\n",
              "    fill: var(--button-hover-fill-color);\n",
              "  }\n",
              "\n",
              "  .colab-df-quickchart-complete:disabled,\n",
              "  .colab-df-quickchart-complete:disabled:hover {\n",
              "    background-color: var(--disabled-bg-color);\n",
              "    fill: var(--disabled-fill-color);\n",
              "    box-shadow: none;\n",
              "  }\n",
              "\n",
              "  .colab-df-spinner {\n",
              "    border: 2px solid var(--fill-color);\n",
              "    border-color: transparent;\n",
              "    border-bottom-color: var(--fill-color);\n",
              "    animation:\n",
              "      spin 1s steps(1) infinite;\n",
              "  }\n",
              "\n",
              "  @keyframes spin {\n",
              "    0% {\n",
              "      border-color: transparent;\n",
              "      border-bottom-color: var(--fill-color);\n",
              "      border-left-color: var(--fill-color);\n",
              "    }\n",
              "    20% {\n",
              "      border-color: transparent;\n",
              "      border-left-color: var(--fill-color);\n",
              "      border-top-color: var(--fill-color);\n",
              "    }\n",
              "    30% {\n",
              "      border-color: transparent;\n",
              "      border-left-color: var(--fill-color);\n",
              "      border-top-color: var(--fill-color);\n",
              "      border-right-color: var(--fill-color);\n",
              "    }\n",
              "    40% {\n",
              "      border-color: transparent;\n",
              "      border-right-color: var(--fill-color);\n",
              "      border-top-color: var(--fill-color);\n",
              "    }\n",
              "    60% {\n",
              "      border-color: transparent;\n",
              "      border-right-color: var(--fill-color);\n",
              "    }\n",
              "    80% {\n",
              "      border-color: transparent;\n",
              "      border-right-color: var(--fill-color);\n",
              "      border-bottom-color: var(--fill-color);\n",
              "    }\n",
              "    90% {\n",
              "      border-color: transparent;\n",
              "      border-bottom-color: var(--fill-color);\n",
              "    }\n",
              "  }\n",
              "</style>\n",
              "\n",
              "      <script>\n",
              "        async function quickchart(key) {\n",
              "          const quickchartButtonEl =\n",
              "            document.querySelector('#' + key + ' button');\n",
              "          quickchartButtonEl.disabled = true;  // To prevent multiple clicks.\n",
              "          quickchartButtonEl.classList.add('colab-df-spinner');\n",
              "          try {\n",
              "            const charts = await google.colab.kernel.invokeFunction(\n",
              "                'suggestCharts', [key], {});\n",
              "          } catch (error) {\n",
              "            console.error('Error during call to suggestCharts:', error);\n",
              "          }\n",
              "          quickchartButtonEl.classList.remove('colab-df-spinner');\n",
              "          quickchartButtonEl.classList.add('colab-df-quickchart-complete');\n",
              "        }\n",
              "        (() => {\n",
              "          let quickchartButtonEl =\n",
              "            document.querySelector('#df-9c9b4dd1-8afe-4ba5-b7a5-94863146d7e6 button');\n",
              "          quickchartButtonEl.style.display =\n",
              "            google.colab.kernel.accessAllowed ? 'block' : 'none';\n",
              "        })();\n",
              "      </script>\n",
              "    </div>\n",
              "\n",
              "    </div>\n",
              "  </div>\n"
            ],
            "text/plain": [
              "    ID  RecipeNumber  RecipeCode                              RecipeName  \\\n",
              "0   70            71       12259  Banana Bars with Cream Cheese Frosting   \n",
              "1   72            88        8202                        Simple Taco Soup   \n",
              "2  458             3        2832                       Cheeseburger Soup   \n",
              "3    7            50      100276               Grilled Huli Huli Chicken   \n",
              "4   60            12       19731                        Cauliflower Soup   \n",
              "\n",
              "                     CommentID                         UserID        UserName  \\\n",
              "0   sp_aUSaElGf_12259_c_149978  u_1oKVaBmiEKwAFyiHrDLoWpbel0J   misscoffeepot   \n",
              "1    sp_aUSaElGf_8202_c_310332  u_1oKZeRIXYzGNhGW8OMR3O4lX1ih  MichelleMalone   \n",
              "2    sp_aUSaElGf_2832_c_206522  u_1oKYHUtdaD48KJCDYq5wfpAUxWz       jeannem32   \n",
              "3  sp_aUSaElGf_100276_c_434088  u_1oKZCQcKQZdQhDVBS7oISc216VA           ds422   \n",
              "4   sp_aUSaElGf_19731_c_387011  u_1oKd4sudZQPgu6YALiC7bW7mKMs     SusanHoward   \n",
              "\n",
              "   UserReputation  CreationTimestamp  ReplyCount  ThumbsUpCount  \\\n",
              "0              20         1622717078           0              0   \n",
              "1               1         1622717852           0              0   \n",
              "2               1         1622717357           0              0   \n",
              "3               1         1622648899           0              0   \n",
              "4               1         1622718260           0              0   \n",
              "\n",
              "   ThumbsDownCount  Rating  BestScore  \\\n",
              "0                0       5        100   \n",
              "1                1       5        100   \n",
              "2                0       3        100   \n",
              "3                0       5        100   \n",
              "4                0       4        100   \n",
              "\n",
              "                                       Recipe_Review  \n",
              "0  great recipe! I have made them just as written...  \n",
              "1  This is an easy and quick recipe that is great...  \n",
              "2  I think I was looking for something extra spec...  \n",
              "3  This is our favorite grilled chicken recipe.  ...  \n",
              "4  Great basic recipe. I added 2 teaspoons Tuscan...  "
            ]
          },
          "execution_count": 11,
          "metadata": {},
          "output_type": "execute_result"
        }
      ],
      "source": [
        "train_data.head()"
      ]
    },
    {
      "cell_type": "code",
      "execution_count": 12,
      "metadata": {
        "execution": {
          "iopub.execute_input": "2024-03-31T13:51:42.405202Z",
          "iopub.status.busy": "2024-03-31T13:51:42.404546Z",
          "iopub.status.idle": "2024-03-31T13:51:43.198801Z",
          "shell.execute_reply": "2024-03-31T13:51:43.197287Z",
          "shell.execute_reply.started": "2024-03-31T13:51:42.405167Z"
        },
        "id": "AdbaEW5OCJnu",
        "trusted": true
      },
      "outputs": [],
      "source": [
        "import matplotlib.pyplot as plt\n",
        "import seaborn as sns"
      ]
    },
    {
      "cell_type": "code",
      "execution_count": 13,
      "metadata": {
        "execution": {
          "iopub.execute_input": "2024-03-31T13:51:46.444486Z",
          "iopub.status.busy": "2024-03-31T13:51:46.444034Z",
          "iopub.status.idle": "2024-03-31T13:51:46.475068Z",
          "shell.execute_reply": "2024-03-31T13:51:46.473838Z",
          "shell.execute_reply.started": "2024-03-31T13:51:46.444452Z"
        },
        "id": "p0IJp7sbCJnu",
        "trusted": true
      },
      "outputs": [],
      "source": [
        "train_data.drop('RecipeNumber',axis=1,inplace=True)\n",
        "train_data.drop('CommentID',axis=1,inplace=True)\n",
        "train_data.drop('UserReputation',axis=1,inplace=True)\n",
        "train_data.drop('ReplyCount',axis=1,inplace=True)\n",
        "train_data.drop('ThumbsUpCount',axis=1,inplace=True)\n",
        "train_data.drop('ThumbsDownCount',axis=1,inplace=True)\n",
        "train_data.drop('BestScore',axis=1,inplace=True)\n",
        "train_data.drop('CreationTimestamp',axis=1,inplace=True)\n",
        "train_data.drop('UserName',axis=1,inplace=True)"
      ]
    },
    {
      "cell_type": "code",
      "execution_count": 14,
      "metadata": {
        "execution": {
          "iopub.execute_input": "2024-03-31T09:00:17.546577Z",
          "iopub.status.busy": "2024-03-31T09:00:17.546101Z",
          "iopub.status.idle": "2024-03-31T09:00:17.555844Z",
          "shell.execute_reply": "2024-03-31T09:00:17.554573Z",
          "shell.execute_reply.started": "2024-03-31T09:00:17.546539Z"
        },
        "id": "ApAgmjXwCJnv",
        "trusted": true
      },
      "outputs": [],
      "source": [
        "# train_data.drop('RecipeName',axis=1,inplace=True)"
      ]
    },
    {
      "cell_type": "code",
      "execution_count": 15,
      "metadata": {
        "colab": {
          "base_uri": "https://localhost:8080/"
        },
        "execution": {
          "iopub.execute_input": "2024-03-31T13:51:50.347916Z",
          "iopub.status.busy": "2024-03-31T13:51:50.347518Z",
          "iopub.status.idle": "2024-03-31T13:51:50.367044Z",
          "shell.execute_reply": "2024-03-31T13:51:50.365698Z",
          "shell.execute_reply.started": "2024-03-31T13:51:50.347888Z"
        },
        "id": "4v8og0IGCJnv",
        "outputId": "1fdf0761-3b65-4e7f-fb9b-4e7758f011e3",
        "trusted": true
      },
      "outputs": [
        {
          "name": "stdout",
          "output_type": "stream",
          "text": [
            "<class 'pandas.core.frame.DataFrame'>\n",
            "RangeIndex: 13636 entries, 0 to 13635\n",
            "Data columns (total 6 columns):\n",
            " #   Column         Non-Null Count  Dtype \n",
            "---  ------         --------------  ----- \n",
            " 0   ID             13636 non-null  int64 \n",
            " 1   RecipeCode     13636 non-null  int64 \n",
            " 2   RecipeName     13636 non-null  object\n",
            " 3   UserID         13636 non-null  object\n",
            " 4   Rating         13636 non-null  int64 \n",
            " 5   Recipe_Review  13634 non-null  object\n",
            "dtypes: int64(3), object(3)\n",
            "memory usage: 639.3+ KB\n"
          ]
        }
      ],
      "source": [
        "train_data.info()"
      ]
    },
    {
      "cell_type": "code",
      "execution_count": 16,
      "metadata": {
        "colab": {
          "base_uri": "https://localhost:8080/",
          "height": 300
        },
        "execution": {
          "iopub.execute_input": "2024-03-31T13:51:53.839782Z",
          "iopub.status.busy": "2024-03-31T13:51:53.839394Z",
          "iopub.status.idle": "2024-03-31T13:51:53.865159Z",
          "shell.execute_reply": "2024-03-31T13:51:53.864118Z",
          "shell.execute_reply.started": "2024-03-31T13:51:53.839751Z"
        },
        "id": "Py2FXab4CJnv",
        "outputId": "1230c260-5bb0-42fa-9092-ef6288a28348",
        "trusted": true
      },
      "outputs": [
        {
          "data": {
            "application/vnd.google.colaboratory.intrinsic+json": {
              "summary": "{\n  \"name\": \"train_data\",\n  \"rows\": 8,\n  \"fields\": [\n    {\n      \"column\": \"ID\",\n      \"properties\": {\n        \"dtype\": \"number\",\n        \"std\": 4763.562443241054,\n        \"min\": 0.0,\n        \"max\": 13636.0,\n        \"num_unique_values\": 8,\n        \"samples\": [\n          121.08528894103843,\n          91.0,\n          13636.0\n        ],\n        \"semantic_type\": \"\",\n        \"description\": \"\"\n      }\n    },\n    {\n      \"column\": \"RecipeCode\",\n      \"properties\": {\n        \"dtype\": \"number\",\n        \"std\": 62883.51099184175,\n        \"min\": 386.0,\n        \"max\": 191775.0,\n        \"num_unique_values\": 8,\n        \"samples\": [\n          21785.990833088883,\n          14600.0,\n          13636.0\n        ],\n        \"semantic_type\": \"\",\n        \"description\": \"\"\n      }\n    },\n    {\n      \"column\": \"Rating\",\n      \"properties\": {\n        \"dtype\": \"number\",\n        \"std\": 4819.749619337263,\n        \"min\": 0.0,\n        \"max\": 13636.0,\n        \"num_unique_values\": 5,\n        \"samples\": [\n          4.2887210325608685,\n          5.0,\n          1.5448390556053917\n        ],\n        \"semantic_type\": \"\",\n        \"description\": \"\"\n      }\n    }\n  ]\n}",
              "type": "dataframe"
            },
            "text/html": [
              "\n",
              "  <div id=\"df-747af26e-4c2d-424b-a850-f6484da50d8a\" class=\"colab-df-container\">\n",
              "    <div>\n",
              "<style scoped>\n",
              "    .dataframe tbody tr th:only-of-type {\n",
              "        vertical-align: middle;\n",
              "    }\n",
              "\n",
              "    .dataframe tbody tr th {\n",
              "        vertical-align: top;\n",
              "    }\n",
              "\n",
              "    .dataframe thead th {\n",
              "        text-align: right;\n",
              "    }\n",
              "</style>\n",
              "<table border=\"1\" class=\"dataframe\">\n",
              "  <thead>\n",
              "    <tr style=\"text-align: right;\">\n",
              "      <th></th>\n",
              "      <th>ID</th>\n",
              "      <th>RecipeCode</th>\n",
              "      <th>Rating</th>\n",
              "    </tr>\n",
              "  </thead>\n",
              "  <tbody>\n",
              "    <tr>\n",
              "      <th>count</th>\n",
              "      <td>13636.000000</td>\n",
              "      <td>13636.000000</td>\n",
              "      <td>13636.000000</td>\n",
              "    </tr>\n",
              "    <tr>\n",
              "      <th>mean</th>\n",
              "      <td>121.085289</td>\n",
              "      <td>21785.990833</td>\n",
              "      <td>4.288721</td>\n",
              "    </tr>\n",
              "    <tr>\n",
              "      <th>std</th>\n",
              "      <td>116.995633</td>\n",
              "      <td>23883.189918</td>\n",
              "      <td>1.544839</td>\n",
              "    </tr>\n",
              "    <tr>\n",
              "      <th>min</th>\n",
              "      <td>0.000000</td>\n",
              "      <td>386.000000</td>\n",
              "      <td>0.000000</td>\n",
              "    </tr>\n",
              "    <tr>\n",
              "      <th>25%</th>\n",
              "      <td>45.000000</td>\n",
              "      <td>6504.000000</td>\n",
              "      <td>5.000000</td>\n",
              "    </tr>\n",
              "    <tr>\n",
              "      <th>50%</th>\n",
              "      <td>91.000000</td>\n",
              "      <td>14600.000000</td>\n",
              "      <td>5.000000</td>\n",
              "    </tr>\n",
              "    <tr>\n",
              "      <th>75%</th>\n",
              "      <td>148.000000</td>\n",
              "      <td>33121.000000</td>\n",
              "      <td>5.000000</td>\n",
              "    </tr>\n",
              "    <tr>\n",
              "      <th>max</th>\n",
              "      <td>724.000000</td>\n",
              "      <td>191775.000000</td>\n",
              "      <td>5.000000</td>\n",
              "    </tr>\n",
              "  </tbody>\n",
              "</table>\n",
              "</div>\n",
              "    <div class=\"colab-df-buttons\">\n",
              "\n",
              "  <div class=\"colab-df-container\">\n",
              "    <button class=\"colab-df-convert\" onclick=\"convertToInteractive('df-747af26e-4c2d-424b-a850-f6484da50d8a')\"\n",
              "            title=\"Convert this dataframe to an interactive table.\"\n",
              "            style=\"display:none;\">\n",
              "\n",
              "  <svg xmlns=\"http://www.w3.org/2000/svg\" height=\"24px\" viewBox=\"0 -960 960 960\">\n",
              "    <path d=\"M120-120v-720h720v720H120Zm60-500h600v-160H180v160Zm220 220h160v-160H400v160Zm0 220h160v-160H400v160ZM180-400h160v-160H180v160Zm440 0h160v-160H620v160ZM180-180h160v-160H180v160Zm440 0h160v-160H620v160Z\"/>\n",
              "  </svg>\n",
              "    </button>\n",
              "\n",
              "  <style>\n",
              "    .colab-df-container {\n",
              "      display:flex;\n",
              "      gap: 12px;\n",
              "    }\n",
              "\n",
              "    .colab-df-convert {\n",
              "      background-color: #E8F0FE;\n",
              "      border: none;\n",
              "      border-radius: 50%;\n",
              "      cursor: pointer;\n",
              "      display: none;\n",
              "      fill: #1967D2;\n",
              "      height: 32px;\n",
              "      padding: 0 0 0 0;\n",
              "      width: 32px;\n",
              "    }\n",
              "\n",
              "    .colab-df-convert:hover {\n",
              "      background-color: #E2EBFA;\n",
              "      box-shadow: 0px 1px 2px rgba(60, 64, 67, 0.3), 0px 1px 3px 1px rgba(60, 64, 67, 0.15);\n",
              "      fill: #174EA6;\n",
              "    }\n",
              "\n",
              "    .colab-df-buttons div {\n",
              "      margin-bottom: 4px;\n",
              "    }\n",
              "\n",
              "    [theme=dark] .colab-df-convert {\n",
              "      background-color: #3B4455;\n",
              "      fill: #D2E3FC;\n",
              "    }\n",
              "\n",
              "    [theme=dark] .colab-df-convert:hover {\n",
              "      background-color: #434B5C;\n",
              "      box-shadow: 0px 1px 3px 1px rgba(0, 0, 0, 0.15);\n",
              "      filter: drop-shadow(0px 1px 2px rgba(0, 0, 0, 0.3));\n",
              "      fill: #FFFFFF;\n",
              "    }\n",
              "  </style>\n",
              "\n",
              "    <script>\n",
              "      const buttonEl =\n",
              "        document.querySelector('#df-747af26e-4c2d-424b-a850-f6484da50d8a button.colab-df-convert');\n",
              "      buttonEl.style.display =\n",
              "        google.colab.kernel.accessAllowed ? 'block' : 'none';\n",
              "\n",
              "      async function convertToInteractive(key) {\n",
              "        const element = document.querySelector('#df-747af26e-4c2d-424b-a850-f6484da50d8a');\n",
              "        const dataTable =\n",
              "          await google.colab.kernel.invokeFunction('convertToInteractive',\n",
              "                                                    [key], {});\n",
              "        if (!dataTable) return;\n",
              "\n",
              "        const docLinkHtml = 'Like what you see? Visit the ' +\n",
              "          '<a target=\"_blank\" href=https://colab.research.google.com/notebooks/data_table.ipynb>data table notebook</a>'\n",
              "          + ' to learn more about interactive tables.';\n",
              "        element.innerHTML = '';\n",
              "        dataTable['output_type'] = 'display_data';\n",
              "        await google.colab.output.renderOutput(dataTable, element);\n",
              "        const docLink = document.createElement('div');\n",
              "        docLink.innerHTML = docLinkHtml;\n",
              "        element.appendChild(docLink);\n",
              "      }\n",
              "    </script>\n",
              "  </div>\n",
              "\n",
              "\n",
              "    <div id=\"df-d8bf7575-68d7-4d74-b0b6-1b3896252998\">\n",
              "      <button class=\"colab-df-quickchart\" onclick=\"quickchart('df-d8bf7575-68d7-4d74-b0b6-1b3896252998')\"\n",
              "                title=\"Suggest charts\"\n",
              "                style=\"display:none;\">\n",
              "\n",
              "<svg xmlns=\"http://www.w3.org/2000/svg\" height=\"24px\"viewBox=\"0 0 24 24\"\n",
              "     width=\"24px\">\n",
              "    <g>\n",
              "        <path d=\"M19 3H5c-1.1 0-2 .9-2 2v14c0 1.1.9 2 2 2h14c1.1 0 2-.9 2-2V5c0-1.1-.9-2-2-2zM9 17H7v-7h2v7zm4 0h-2V7h2v10zm4 0h-2v-4h2v4z\"/>\n",
              "    </g>\n",
              "</svg>\n",
              "      </button>\n",
              "\n",
              "<style>\n",
              "  .colab-df-quickchart {\n",
              "      --bg-color: #E8F0FE;\n",
              "      --fill-color: #1967D2;\n",
              "      --hover-bg-color: #E2EBFA;\n",
              "      --hover-fill-color: #174EA6;\n",
              "      --disabled-fill-color: #AAA;\n",
              "      --disabled-bg-color: #DDD;\n",
              "  }\n",
              "\n",
              "  [theme=dark] .colab-df-quickchart {\n",
              "      --bg-color: #3B4455;\n",
              "      --fill-color: #D2E3FC;\n",
              "      --hover-bg-color: #434B5C;\n",
              "      --hover-fill-color: #FFFFFF;\n",
              "      --disabled-bg-color: #3B4455;\n",
              "      --disabled-fill-color: #666;\n",
              "  }\n",
              "\n",
              "  .colab-df-quickchart {\n",
              "    background-color: var(--bg-color);\n",
              "    border: none;\n",
              "    border-radius: 50%;\n",
              "    cursor: pointer;\n",
              "    display: none;\n",
              "    fill: var(--fill-color);\n",
              "    height: 32px;\n",
              "    padding: 0;\n",
              "    width: 32px;\n",
              "  }\n",
              "\n",
              "  .colab-df-quickchart:hover {\n",
              "    background-color: var(--hover-bg-color);\n",
              "    box-shadow: 0 1px 2px rgba(60, 64, 67, 0.3), 0 1px 3px 1px rgba(60, 64, 67, 0.15);\n",
              "    fill: var(--button-hover-fill-color);\n",
              "  }\n",
              "\n",
              "  .colab-df-quickchart-complete:disabled,\n",
              "  .colab-df-quickchart-complete:disabled:hover {\n",
              "    background-color: var(--disabled-bg-color);\n",
              "    fill: var(--disabled-fill-color);\n",
              "    box-shadow: none;\n",
              "  }\n",
              "\n",
              "  .colab-df-spinner {\n",
              "    border: 2px solid var(--fill-color);\n",
              "    border-color: transparent;\n",
              "    border-bottom-color: var(--fill-color);\n",
              "    animation:\n",
              "      spin 1s steps(1) infinite;\n",
              "  }\n",
              "\n",
              "  @keyframes spin {\n",
              "    0% {\n",
              "      border-color: transparent;\n",
              "      border-bottom-color: var(--fill-color);\n",
              "      border-left-color: var(--fill-color);\n",
              "    }\n",
              "    20% {\n",
              "      border-color: transparent;\n",
              "      border-left-color: var(--fill-color);\n",
              "      border-top-color: var(--fill-color);\n",
              "    }\n",
              "    30% {\n",
              "      border-color: transparent;\n",
              "      border-left-color: var(--fill-color);\n",
              "      border-top-color: var(--fill-color);\n",
              "      border-right-color: var(--fill-color);\n",
              "    }\n",
              "    40% {\n",
              "      border-color: transparent;\n",
              "      border-right-color: var(--fill-color);\n",
              "      border-top-color: var(--fill-color);\n",
              "    }\n",
              "    60% {\n",
              "      border-color: transparent;\n",
              "      border-right-color: var(--fill-color);\n",
              "    }\n",
              "    80% {\n",
              "      border-color: transparent;\n",
              "      border-right-color: var(--fill-color);\n",
              "      border-bottom-color: var(--fill-color);\n",
              "    }\n",
              "    90% {\n",
              "      border-color: transparent;\n",
              "      border-bottom-color: var(--fill-color);\n",
              "    }\n",
              "  }\n",
              "</style>\n",
              "\n",
              "      <script>\n",
              "        async function quickchart(key) {\n",
              "          const quickchartButtonEl =\n",
              "            document.querySelector('#' + key + ' button');\n",
              "          quickchartButtonEl.disabled = true;  // To prevent multiple clicks.\n",
              "          quickchartButtonEl.classList.add('colab-df-spinner');\n",
              "          try {\n",
              "            const charts = await google.colab.kernel.invokeFunction(\n",
              "                'suggestCharts', [key], {});\n",
              "          } catch (error) {\n",
              "            console.error('Error during call to suggestCharts:', error);\n",
              "          }\n",
              "          quickchartButtonEl.classList.remove('colab-df-spinner');\n",
              "          quickchartButtonEl.classList.add('colab-df-quickchart-complete');\n",
              "        }\n",
              "        (() => {\n",
              "          let quickchartButtonEl =\n",
              "            document.querySelector('#df-d8bf7575-68d7-4d74-b0b6-1b3896252998 button');\n",
              "          quickchartButtonEl.style.display =\n",
              "            google.colab.kernel.accessAllowed ? 'block' : 'none';\n",
              "        })();\n",
              "      </script>\n",
              "    </div>\n",
              "\n",
              "    </div>\n",
              "  </div>\n"
            ],
            "text/plain": [
              "                 ID     RecipeCode        Rating\n",
              "count  13636.000000   13636.000000  13636.000000\n",
              "mean     121.085289   21785.990833      4.288721\n",
              "std      116.995633   23883.189918      1.544839\n",
              "min        0.000000     386.000000      0.000000\n",
              "25%       45.000000    6504.000000      5.000000\n",
              "50%       91.000000   14600.000000      5.000000\n",
              "75%      148.000000   33121.000000      5.000000\n",
              "max      724.000000  191775.000000      5.000000"
            ]
          },
          "execution_count": 16,
          "metadata": {},
          "output_type": "execute_result"
        }
      ],
      "source": [
        "train_data.describe()"
      ]
    },
    {
      "cell_type": "code",
      "execution_count": 17,
      "metadata": {
        "colab": {
          "base_uri": "https://localhost:8080/",
          "height": 206
        },
        "execution": {
          "iopub.execute_input": "2024-03-31T13:51:57.451939Z",
          "iopub.status.busy": "2024-03-31T13:51:57.451329Z",
          "iopub.status.idle": "2024-03-31T13:51:57.468074Z",
          "shell.execute_reply": "2024-03-31T13:51:57.466679Z",
          "shell.execute_reply.started": "2024-03-31T13:51:57.4519Z"
        },
        "id": "Y7ZWvnEwCJnv",
        "outputId": "9906a234-7356-43b3-cbfd-1ab1ea8e7b28",
        "trusted": true
      },
      "outputs": [
        {
          "data": {
            "application/vnd.google.colaboratory.intrinsic+json": {
              "summary": "{\n  \"name\": \"train_data\",\n  \"rows\": 13636,\n  \"fields\": [\n    {\n      \"column\": \"ID\",\n      \"properties\": {\n        \"dtype\": \"number\",\n        \"std\": 116,\n        \"min\": 0,\n        \"max\": 724,\n        \"num_unique_values\": 701,\n        \"samples\": [\n          472,\n          94,\n          195\n        ],\n        \"semantic_type\": \"\",\n        \"description\": \"\"\n      }\n    },\n    {\n      \"column\": \"RecipeCode\",\n      \"properties\": {\n        \"dtype\": \"number\",\n        \"std\": 23883,\n        \"min\": 386,\n        \"max\": 191775,\n        \"num_unique_values\": 100,\n        \"samples\": [\n          191775,\n          38183,\n          32248\n        ],\n        \"semantic_type\": \"\",\n        \"description\": \"\"\n      }\n    },\n    {\n      \"column\": \"RecipeName\",\n      \"properties\": {\n        \"dtype\": \"category\",\n        \"num_unique_values\": 100,\n        \"samples\": [\n          \"Egg Roll Noodle Bowl\",\n          \"Baked Tilapia\",\n          \"Smothered Chicken Breasts\"\n        ],\n        \"semantic_type\": \"\",\n        \"description\": \"\"\n      }\n    },\n    {\n      \"column\": \"UserID\",\n      \"properties\": {\n        \"dtype\": \"string\",\n        \"num_unique_values\": 10783,\n        \"samples\": [\n          \"u_1oKcMP7Wqg03jnBOCMGHANAb9ls\",\n          \"u_1oKdH7YlkFOiGGgOshSyoaldQC3\",\n          \"u_1oKXklmKIgwCpZ802tv9oOKbmcO\"\n        ],\n        \"semantic_type\": \"\",\n        \"description\": \"\"\n      }\n    },\n    {\n      \"column\": \"Rating\",\n      \"properties\": {\n        \"dtype\": \"number\",\n        \"std\": 1,\n        \"min\": 0,\n        \"max\": 5,\n        \"num_unique_values\": 6,\n        \"samples\": [\n          5,\n          3,\n          1\n        ],\n        \"semantic_type\": \"\",\n        \"description\": \"\"\n      }\n    },\n    {\n      \"column\": \"Recipe_Review\",\n      \"properties\": {\n        \"dtype\": \"string\",\n        \"num_unique_values\": 13370,\n        \"samples\": [\n          \"Just once I&#39;d like to see one of these recipes serve fewer than an army. Maybe have one that serves two or three once and awhile.\",\n          \"Delicious. The whole family loved it. Like a very moist cornbread with some whole kernels in it.\",\n          \"This was great!  I didn&#39;t have green peppers, so I omitted them, but it was still great.  Pretty simple to make too.\"\n        ],\n        \"semantic_type\": \"\",\n        \"description\": \"\"\n      }\n    }\n  ]\n}",
              "type": "dataframe",
              "variable_name": "train_data"
            },
            "text/html": [
              "\n",
              "  <div id=\"df-4ceda8ba-a7e3-4036-99ae-70aad6eb5077\" class=\"colab-df-container\">\n",
              "    <div>\n",
              "<style scoped>\n",
              "    .dataframe tbody tr th:only-of-type {\n",
              "        vertical-align: middle;\n",
              "    }\n",
              "\n",
              "    .dataframe tbody tr th {\n",
              "        vertical-align: top;\n",
              "    }\n",
              "\n",
              "    .dataframe thead th {\n",
              "        text-align: right;\n",
              "    }\n",
              "</style>\n",
              "<table border=\"1\" class=\"dataframe\">\n",
              "  <thead>\n",
              "    <tr style=\"text-align: right;\">\n",
              "      <th></th>\n",
              "      <th>ID</th>\n",
              "      <th>RecipeCode</th>\n",
              "      <th>RecipeName</th>\n",
              "      <th>UserID</th>\n",
              "      <th>Rating</th>\n",
              "      <th>Recipe_Review</th>\n",
              "    </tr>\n",
              "  </thead>\n",
              "  <tbody>\n",
              "    <tr>\n",
              "      <th>0</th>\n",
              "      <td>70</td>\n",
              "      <td>12259</td>\n",
              "      <td>Banana Bars with Cream Cheese Frosting</td>\n",
              "      <td>u_1oKVaBmiEKwAFyiHrDLoWpbel0J</td>\n",
              "      <td>5</td>\n",
              "      <td>great recipe! I have made them just as written...</td>\n",
              "    </tr>\n",
              "    <tr>\n",
              "      <th>1</th>\n",
              "      <td>72</td>\n",
              "      <td>8202</td>\n",
              "      <td>Simple Taco Soup</td>\n",
              "      <td>u_1oKZeRIXYzGNhGW8OMR3O4lX1ih</td>\n",
              "      <td>5</td>\n",
              "      <td>This is an easy and quick recipe that is great...</td>\n",
              "    </tr>\n",
              "    <tr>\n",
              "      <th>2</th>\n",
              "      <td>458</td>\n",
              "      <td>2832</td>\n",
              "      <td>Cheeseburger Soup</td>\n",
              "      <td>u_1oKYHUtdaD48KJCDYq5wfpAUxWz</td>\n",
              "      <td>3</td>\n",
              "      <td>I think I was looking for something extra spec...</td>\n",
              "    </tr>\n",
              "    <tr>\n",
              "      <th>3</th>\n",
              "      <td>7</td>\n",
              "      <td>100276</td>\n",
              "      <td>Grilled Huli Huli Chicken</td>\n",
              "      <td>u_1oKZCQcKQZdQhDVBS7oISc216VA</td>\n",
              "      <td>5</td>\n",
              "      <td>This is our favorite grilled chicken recipe.  ...</td>\n",
              "    </tr>\n",
              "    <tr>\n",
              "      <th>4</th>\n",
              "      <td>60</td>\n",
              "      <td>19731</td>\n",
              "      <td>Cauliflower Soup</td>\n",
              "      <td>u_1oKd4sudZQPgu6YALiC7bW7mKMs</td>\n",
              "      <td>4</td>\n",
              "      <td>Great basic recipe. I added 2 teaspoons Tuscan...</td>\n",
              "    </tr>\n",
              "  </tbody>\n",
              "</table>\n",
              "</div>\n",
              "    <div class=\"colab-df-buttons\">\n",
              "\n",
              "  <div class=\"colab-df-container\">\n",
              "    <button class=\"colab-df-convert\" onclick=\"convertToInteractive('df-4ceda8ba-a7e3-4036-99ae-70aad6eb5077')\"\n",
              "            title=\"Convert this dataframe to an interactive table.\"\n",
              "            style=\"display:none;\">\n",
              "\n",
              "  <svg xmlns=\"http://www.w3.org/2000/svg\" height=\"24px\" viewBox=\"0 -960 960 960\">\n",
              "    <path d=\"M120-120v-720h720v720H120Zm60-500h600v-160H180v160Zm220 220h160v-160H400v160Zm0 220h160v-160H400v160ZM180-400h160v-160H180v160Zm440 0h160v-160H620v160ZM180-180h160v-160H180v160Zm440 0h160v-160H620v160Z\"/>\n",
              "  </svg>\n",
              "    </button>\n",
              "\n",
              "  <style>\n",
              "    .colab-df-container {\n",
              "      display:flex;\n",
              "      gap: 12px;\n",
              "    }\n",
              "\n",
              "    .colab-df-convert {\n",
              "      background-color: #E8F0FE;\n",
              "      border: none;\n",
              "      border-radius: 50%;\n",
              "      cursor: pointer;\n",
              "      display: none;\n",
              "      fill: #1967D2;\n",
              "      height: 32px;\n",
              "      padding: 0 0 0 0;\n",
              "      width: 32px;\n",
              "    }\n",
              "\n",
              "    .colab-df-convert:hover {\n",
              "      background-color: #E2EBFA;\n",
              "      box-shadow: 0px 1px 2px rgba(60, 64, 67, 0.3), 0px 1px 3px 1px rgba(60, 64, 67, 0.15);\n",
              "      fill: #174EA6;\n",
              "    }\n",
              "\n",
              "    .colab-df-buttons div {\n",
              "      margin-bottom: 4px;\n",
              "    }\n",
              "\n",
              "    [theme=dark] .colab-df-convert {\n",
              "      background-color: #3B4455;\n",
              "      fill: #D2E3FC;\n",
              "    }\n",
              "\n",
              "    [theme=dark] .colab-df-convert:hover {\n",
              "      background-color: #434B5C;\n",
              "      box-shadow: 0px 1px 3px 1px rgba(0, 0, 0, 0.15);\n",
              "      filter: drop-shadow(0px 1px 2px rgba(0, 0, 0, 0.3));\n",
              "      fill: #FFFFFF;\n",
              "    }\n",
              "  </style>\n",
              "\n",
              "    <script>\n",
              "      const buttonEl =\n",
              "        document.querySelector('#df-4ceda8ba-a7e3-4036-99ae-70aad6eb5077 button.colab-df-convert');\n",
              "      buttonEl.style.display =\n",
              "        google.colab.kernel.accessAllowed ? 'block' : 'none';\n",
              "\n",
              "      async function convertToInteractive(key) {\n",
              "        const element = document.querySelector('#df-4ceda8ba-a7e3-4036-99ae-70aad6eb5077');\n",
              "        const dataTable =\n",
              "          await google.colab.kernel.invokeFunction('convertToInteractive',\n",
              "                                                    [key], {});\n",
              "        if (!dataTable) return;\n",
              "\n",
              "        const docLinkHtml = 'Like what you see? Visit the ' +\n",
              "          '<a target=\"_blank\" href=https://colab.research.google.com/notebooks/data_table.ipynb>data table notebook</a>'\n",
              "          + ' to learn more about interactive tables.';\n",
              "        element.innerHTML = '';\n",
              "        dataTable['output_type'] = 'display_data';\n",
              "        await google.colab.output.renderOutput(dataTable, element);\n",
              "        const docLink = document.createElement('div');\n",
              "        docLink.innerHTML = docLinkHtml;\n",
              "        element.appendChild(docLink);\n",
              "      }\n",
              "    </script>\n",
              "  </div>\n",
              "\n",
              "\n",
              "    <div id=\"df-7ee70169-76d0-4b17-ab95-ffab629eafc4\">\n",
              "      <button class=\"colab-df-quickchart\" onclick=\"quickchart('df-7ee70169-76d0-4b17-ab95-ffab629eafc4')\"\n",
              "                title=\"Suggest charts\"\n",
              "                style=\"display:none;\">\n",
              "\n",
              "<svg xmlns=\"http://www.w3.org/2000/svg\" height=\"24px\"viewBox=\"0 0 24 24\"\n",
              "     width=\"24px\">\n",
              "    <g>\n",
              "        <path d=\"M19 3H5c-1.1 0-2 .9-2 2v14c0 1.1.9 2 2 2h14c1.1 0 2-.9 2-2V5c0-1.1-.9-2-2-2zM9 17H7v-7h2v7zm4 0h-2V7h2v10zm4 0h-2v-4h2v4z\"/>\n",
              "    </g>\n",
              "</svg>\n",
              "      </button>\n",
              "\n",
              "<style>\n",
              "  .colab-df-quickchart {\n",
              "      --bg-color: #E8F0FE;\n",
              "      --fill-color: #1967D2;\n",
              "      --hover-bg-color: #E2EBFA;\n",
              "      --hover-fill-color: #174EA6;\n",
              "      --disabled-fill-color: #AAA;\n",
              "      --disabled-bg-color: #DDD;\n",
              "  }\n",
              "\n",
              "  [theme=dark] .colab-df-quickchart {\n",
              "      --bg-color: #3B4455;\n",
              "      --fill-color: #D2E3FC;\n",
              "      --hover-bg-color: #434B5C;\n",
              "      --hover-fill-color: #FFFFFF;\n",
              "      --disabled-bg-color: #3B4455;\n",
              "      --disabled-fill-color: #666;\n",
              "  }\n",
              "\n",
              "  .colab-df-quickchart {\n",
              "    background-color: var(--bg-color);\n",
              "    border: none;\n",
              "    border-radius: 50%;\n",
              "    cursor: pointer;\n",
              "    display: none;\n",
              "    fill: var(--fill-color);\n",
              "    height: 32px;\n",
              "    padding: 0;\n",
              "    width: 32px;\n",
              "  }\n",
              "\n",
              "  .colab-df-quickchart:hover {\n",
              "    background-color: var(--hover-bg-color);\n",
              "    box-shadow: 0 1px 2px rgba(60, 64, 67, 0.3), 0 1px 3px 1px rgba(60, 64, 67, 0.15);\n",
              "    fill: var(--button-hover-fill-color);\n",
              "  }\n",
              "\n",
              "  .colab-df-quickchart-complete:disabled,\n",
              "  .colab-df-quickchart-complete:disabled:hover {\n",
              "    background-color: var(--disabled-bg-color);\n",
              "    fill: var(--disabled-fill-color);\n",
              "    box-shadow: none;\n",
              "  }\n",
              "\n",
              "  .colab-df-spinner {\n",
              "    border: 2px solid var(--fill-color);\n",
              "    border-color: transparent;\n",
              "    border-bottom-color: var(--fill-color);\n",
              "    animation:\n",
              "      spin 1s steps(1) infinite;\n",
              "  }\n",
              "\n",
              "  @keyframes spin {\n",
              "    0% {\n",
              "      border-color: transparent;\n",
              "      border-bottom-color: var(--fill-color);\n",
              "      border-left-color: var(--fill-color);\n",
              "    }\n",
              "    20% {\n",
              "      border-color: transparent;\n",
              "      border-left-color: var(--fill-color);\n",
              "      border-top-color: var(--fill-color);\n",
              "    }\n",
              "    30% {\n",
              "      border-color: transparent;\n",
              "      border-left-color: var(--fill-color);\n",
              "      border-top-color: var(--fill-color);\n",
              "      border-right-color: var(--fill-color);\n",
              "    }\n",
              "    40% {\n",
              "      border-color: transparent;\n",
              "      border-right-color: var(--fill-color);\n",
              "      border-top-color: var(--fill-color);\n",
              "    }\n",
              "    60% {\n",
              "      border-color: transparent;\n",
              "      border-right-color: var(--fill-color);\n",
              "    }\n",
              "    80% {\n",
              "      border-color: transparent;\n",
              "      border-right-color: var(--fill-color);\n",
              "      border-bottom-color: var(--fill-color);\n",
              "    }\n",
              "    90% {\n",
              "      border-color: transparent;\n",
              "      border-bottom-color: var(--fill-color);\n",
              "    }\n",
              "  }\n",
              "</style>\n",
              "\n",
              "      <script>\n",
              "        async function quickchart(key) {\n",
              "          const quickchartButtonEl =\n",
              "            document.querySelector('#' + key + ' button');\n",
              "          quickchartButtonEl.disabled = true;  // To prevent multiple clicks.\n",
              "          quickchartButtonEl.classList.add('colab-df-spinner');\n",
              "          try {\n",
              "            const charts = await google.colab.kernel.invokeFunction(\n",
              "                'suggestCharts', [key], {});\n",
              "          } catch (error) {\n",
              "            console.error('Error during call to suggestCharts:', error);\n",
              "          }\n",
              "          quickchartButtonEl.classList.remove('colab-df-spinner');\n",
              "          quickchartButtonEl.classList.add('colab-df-quickchart-complete');\n",
              "        }\n",
              "        (() => {\n",
              "          let quickchartButtonEl =\n",
              "            document.querySelector('#df-7ee70169-76d0-4b17-ab95-ffab629eafc4 button');\n",
              "          quickchartButtonEl.style.display =\n",
              "            google.colab.kernel.accessAllowed ? 'block' : 'none';\n",
              "        })();\n",
              "      </script>\n",
              "    </div>\n",
              "\n",
              "    </div>\n",
              "  </div>\n"
            ],
            "text/plain": [
              "    ID  RecipeCode                              RecipeName  \\\n",
              "0   70       12259  Banana Bars with Cream Cheese Frosting   \n",
              "1   72        8202                        Simple Taco Soup   \n",
              "2  458        2832                       Cheeseburger Soup   \n",
              "3    7      100276               Grilled Huli Huli Chicken   \n",
              "4   60       19731                        Cauliflower Soup   \n",
              "\n",
              "                          UserID  Rating  \\\n",
              "0  u_1oKVaBmiEKwAFyiHrDLoWpbel0J       5   \n",
              "1  u_1oKZeRIXYzGNhGW8OMR3O4lX1ih       5   \n",
              "2  u_1oKYHUtdaD48KJCDYq5wfpAUxWz       3   \n",
              "3  u_1oKZCQcKQZdQhDVBS7oISc216VA       5   \n",
              "4  u_1oKd4sudZQPgu6YALiC7bW7mKMs       4   \n",
              "\n",
              "                                       Recipe_Review  \n",
              "0  great recipe! I have made them just as written...  \n",
              "1  This is an easy and quick recipe that is great...  \n",
              "2  I think I was looking for something extra spec...  \n",
              "3  This is our favorite grilled chicken recipe.  ...  \n",
              "4  Great basic recipe. I added 2 teaspoons Tuscan...  "
            ]
          },
          "execution_count": 17,
          "metadata": {},
          "output_type": "execute_result"
        }
      ],
      "source": [
        "train_data.head()"
      ]
    },
    {
      "cell_type": "code",
      "execution_count": 18,
      "metadata": {
        "colab": {
          "base_uri": "https://localhost:8080/",
          "height": 272
        },
        "execution": {
          "iopub.execute_input": "2024-03-31T13:52:01.629833Z",
          "iopub.status.busy": "2024-03-31T13:52:01.62938Z",
          "iopub.status.idle": "2024-03-31T13:52:01.646931Z",
          "shell.execute_reply": "2024-03-31T13:52:01.64539Z",
          "shell.execute_reply.started": "2024-03-31T13:52:01.629802Z"
        },
        "id": "WBPeaHm3CJnv",
        "outputId": "a8f11a55-64d0-450c-c27c-073461147d14",
        "trusted": true
      },
      "outputs": [
        {
          "data": {
            "text/html": [
              "<div>\n",
              "<style scoped>\n",
              "    .dataframe tbody tr th:only-of-type {\n",
              "        vertical-align: middle;\n",
              "    }\n",
              "\n",
              "    .dataframe tbody tr th {\n",
              "        vertical-align: top;\n",
              "    }\n",
              "\n",
              "    .dataframe thead th {\n",
              "        text-align: right;\n",
              "    }\n",
              "</style>\n",
              "<table border=\"1\" class=\"dataframe\">\n",
              "  <thead>\n",
              "    <tr style=\"text-align: right;\">\n",
              "      <th></th>\n",
              "      <th>0</th>\n",
              "    </tr>\n",
              "  </thead>\n",
              "  <tbody>\n",
              "    <tr>\n",
              "      <th>ID</th>\n",
              "      <td>0</td>\n",
              "    </tr>\n",
              "    <tr>\n",
              "      <th>RecipeCode</th>\n",
              "      <td>0</td>\n",
              "    </tr>\n",
              "    <tr>\n",
              "      <th>RecipeName</th>\n",
              "      <td>0</td>\n",
              "    </tr>\n",
              "    <tr>\n",
              "      <th>UserID</th>\n",
              "      <td>0</td>\n",
              "    </tr>\n",
              "    <tr>\n",
              "      <th>Rating</th>\n",
              "      <td>0</td>\n",
              "    </tr>\n",
              "    <tr>\n",
              "      <th>Recipe_Review</th>\n",
              "      <td>2</td>\n",
              "    </tr>\n",
              "  </tbody>\n",
              "</table>\n",
              "</div><br><label><b>dtype:</b> int64</label>"
            ],
            "text/plain": [
              "ID               0\n",
              "RecipeCode       0\n",
              "RecipeName       0\n",
              "UserID           0\n",
              "Rating           0\n",
              "Recipe_Review    2\n",
              "dtype: int64"
            ]
          },
          "execution_count": 18,
          "metadata": {},
          "output_type": "execute_result"
        }
      ],
      "source": [
        "train_data.isnull().sum()"
      ]
    },
    {
      "cell_type": "code",
      "execution_count": 19,
      "metadata": {
        "execution": {
          "iopub.execute_input": "2024-03-31T13:52:07.374846Z",
          "iopub.status.busy": "2024-03-31T13:52:07.374394Z",
          "iopub.status.idle": "2024-03-31T13:52:07.394648Z",
          "shell.execute_reply": "2024-03-31T13:52:07.393091Z",
          "shell.execute_reply.started": "2024-03-31T13:52:07.374815Z"
        },
        "id": "QKmuwrL7CJnw",
        "trusted": true
      },
      "outputs": [],
      "source": [
        "train_data.dropna(subset=['ID','RecipeCode','RecipeName','UserID','Recipe_Review', 'Rating'], inplace=True)"
      ]
    },
    {
      "cell_type": "code",
      "execution_count": 20,
      "metadata": {
        "colab": {
          "base_uri": "https://localhost:8080/",
          "height": 272
        },
        "execution": {
          "iopub.execute_input": "2024-03-31T13:52:11.311166Z",
          "iopub.status.busy": "2024-03-31T13:52:11.310779Z",
          "iopub.status.idle": "2024-03-31T13:52:11.328411Z",
          "shell.execute_reply": "2024-03-31T13:52:11.326389Z",
          "shell.execute_reply.started": "2024-03-31T13:52:11.311137Z"
        },
        "id": "q4lajM9vCJnw",
        "outputId": "19ce0125-ab70-47de-b852-78489492c09f",
        "trusted": true
      },
      "outputs": [
        {
          "data": {
            "text/html": [
              "<div>\n",
              "<style scoped>\n",
              "    .dataframe tbody tr th:only-of-type {\n",
              "        vertical-align: middle;\n",
              "    }\n",
              "\n",
              "    .dataframe tbody tr th {\n",
              "        vertical-align: top;\n",
              "    }\n",
              "\n",
              "    .dataframe thead th {\n",
              "        text-align: right;\n",
              "    }\n",
              "</style>\n",
              "<table border=\"1\" class=\"dataframe\">\n",
              "  <thead>\n",
              "    <tr style=\"text-align: right;\">\n",
              "      <th></th>\n",
              "      <th>0</th>\n",
              "    </tr>\n",
              "  </thead>\n",
              "  <tbody>\n",
              "    <tr>\n",
              "      <th>ID</th>\n",
              "      <td>0</td>\n",
              "    </tr>\n",
              "    <tr>\n",
              "      <th>RecipeCode</th>\n",
              "      <td>0</td>\n",
              "    </tr>\n",
              "    <tr>\n",
              "      <th>RecipeName</th>\n",
              "      <td>0</td>\n",
              "    </tr>\n",
              "    <tr>\n",
              "      <th>UserID</th>\n",
              "      <td>0</td>\n",
              "    </tr>\n",
              "    <tr>\n",
              "      <th>Rating</th>\n",
              "      <td>0</td>\n",
              "    </tr>\n",
              "    <tr>\n",
              "      <th>Recipe_Review</th>\n",
              "      <td>0</td>\n",
              "    </tr>\n",
              "  </tbody>\n",
              "</table>\n",
              "</div><br><label><b>dtype:</b> int64</label>"
            ],
            "text/plain": [
              "ID               0\n",
              "RecipeCode       0\n",
              "RecipeName       0\n",
              "UserID           0\n",
              "Rating           0\n",
              "Recipe_Review    0\n",
              "dtype: int64"
            ]
          },
          "execution_count": 20,
          "metadata": {},
          "output_type": "execute_result"
        }
      ],
      "source": [
        "train_data.isnull().sum()"
      ]
    },
    {
      "cell_type": "code",
      "execution_count": 21,
      "metadata": {
        "colab": {
          "base_uri": "https://localhost:8080/",
          "height": 303
        },
        "execution": {
          "iopub.execute_input": "2024-03-31T13:52:15.294785Z",
          "iopub.status.busy": "2024-03-31T13:52:15.294353Z",
          "iopub.status.idle": "2024-03-31T13:52:15.307872Z",
          "shell.execute_reply": "2024-03-31T13:52:15.306094Z",
          "shell.execute_reply.started": "2024-03-31T13:52:15.294757Z"
        },
        "id": "BZax8xjLCJnw",
        "outputId": "5d2b6732-17af-4f57-a2d7-2471dfc88748",
        "trusted": true
      },
      "outputs": [
        {
          "data": {
            "text/html": [
              "<div>\n",
              "<style scoped>\n",
              "    .dataframe tbody tr th:only-of-type {\n",
              "        vertical-align: middle;\n",
              "    }\n",
              "\n",
              "    .dataframe tbody tr th {\n",
              "        vertical-align: top;\n",
              "    }\n",
              "\n",
              "    .dataframe thead th {\n",
              "        text-align: right;\n",
              "    }\n",
              "</style>\n",
              "<table border=\"1\" class=\"dataframe\">\n",
              "  <thead>\n",
              "    <tr style=\"text-align: right;\">\n",
              "      <th></th>\n",
              "      <th>count</th>\n",
              "    </tr>\n",
              "    <tr>\n",
              "      <th>Rating</th>\n",
              "      <th></th>\n",
              "    </tr>\n",
              "  </thead>\n",
              "  <tbody>\n",
              "    <tr>\n",
              "      <th>5</th>\n",
              "      <td>10369</td>\n",
              "    </tr>\n",
              "    <tr>\n",
              "      <th>0</th>\n",
              "      <td>1272</td>\n",
              "    </tr>\n",
              "    <tr>\n",
              "      <th>4</th>\n",
              "      <td>1241</td>\n",
              "    </tr>\n",
              "    <tr>\n",
              "      <th>3</th>\n",
              "      <td>368</td>\n",
              "    </tr>\n",
              "    <tr>\n",
              "      <th>1</th>\n",
              "      <td>210</td>\n",
              "    </tr>\n",
              "    <tr>\n",
              "      <th>2</th>\n",
              "      <td>174</td>\n",
              "    </tr>\n",
              "  </tbody>\n",
              "</table>\n",
              "</div><br><label><b>dtype:</b> int64</label>"
            ],
            "text/plain": [
              "Rating\n",
              "5    10369\n",
              "0     1272\n",
              "4     1241\n",
              "3      368\n",
              "1      210\n",
              "2      174\n",
              "Name: count, dtype: int64"
            ]
          },
          "execution_count": 21,
          "metadata": {},
          "output_type": "execute_result"
        }
      ],
      "source": [
        "train_data['Rating'].value_counts()"
      ]
    },
    {
      "cell_type": "code",
      "execution_count": 23,
      "metadata": {
        "execution": {
          "iopub.execute_input": "2024-03-31T13:52:19.84406Z",
          "iopub.status.busy": "2024-03-31T13:52:19.84363Z",
          "iopub.status.idle": "2024-03-31T13:52:19.89301Z",
          "shell.execute_reply": "2024-03-31T13:52:19.891844Z",
          "shell.execute_reply.started": "2024-03-31T13:52:19.844028Z"
        },
        "id": "PL8aQK-ACJnw",
        "trusted": true
      },
      "outputs": [],
      "source": [
        "test_data = pd.read_csv('/content/test.csv')"
      ]
    },
    {
      "cell_type": "code",
      "execution_count": 24,
      "metadata": {
        "colab": {
          "base_uri": "https://localhost:8080/"
        },
        "execution": {
          "iopub.execute_input": "2024-03-31T13:52:31.91063Z",
          "iopub.status.busy": "2024-03-31T13:52:31.910184Z",
          "iopub.status.idle": "2024-03-31T13:52:31.929098Z",
          "shell.execute_reply": "2024-03-31T13:52:31.927709Z",
          "shell.execute_reply.started": "2024-03-31T13:52:31.910598Z"
        },
        "id": "OBMZPcGsCJnw",
        "outputId": "2438144e-0d3d-4934-c6ce-32713ef6eed8",
        "trusted": true
      },
      "outputs": [
        {
          "name": "stdout",
          "output_type": "stream",
          "text": [
            "<class 'pandas.core.frame.DataFrame'>\n",
            "RangeIndex: 4546 entries, 0 to 4545\n",
            "Data columns (total 14 columns):\n",
            " #   Column             Non-Null Count  Dtype \n",
            "---  ------             --------------  ----- \n",
            " 0   ID                 4546 non-null   int64 \n",
            " 1   RecipeNumber       4546 non-null   int64 \n",
            " 2   RecipeCode         4546 non-null   int64 \n",
            " 3   RecipeName         4546 non-null   object\n",
            " 4   CommentID          4546 non-null   object\n",
            " 5   UserID             4546 non-null   object\n",
            " 6   UserName           4546 non-null   object\n",
            " 7   UserReputation     4546 non-null   int64 \n",
            " 8   CreationTimestamp  4546 non-null   int64 \n",
            " 9   ReplyCount         4546 non-null   int64 \n",
            " 10  ThumbsUpCount      4546 non-null   int64 \n",
            " 11  ThumbsDownCount    4546 non-null   int64 \n",
            " 12  BestScore          4546 non-null   int64 \n",
            " 13  Recipe_Review      4546 non-null   object\n",
            "dtypes: int64(9), object(5)\n",
            "memory usage: 497.3+ KB\n"
          ]
        }
      ],
      "source": [
        "test_data.info()"
      ]
    },
    {
      "cell_type": "code",
      "execution_count": 25,
      "metadata": {
        "execution": {
          "iopub.execute_input": "2024-03-31T13:52:42.339564Z",
          "iopub.status.busy": "2024-03-31T13:52:42.339042Z",
          "iopub.status.idle": "2024-03-31T13:52:42.361028Z",
          "shell.execute_reply": "2024-03-31T13:52:42.359486Z",
          "shell.execute_reply.started": "2024-03-31T13:52:42.339525Z"
        },
        "id": "G-oF1j6BCJnw",
        "trusted": true
      },
      "outputs": [],
      "source": [
        "test_data.drop('RecipeNumber',axis=1,inplace=True)\n",
        "test_data.drop('CommentID',axis=1,inplace=True)\n",
        "test_data.drop('UserName',axis=1,inplace=True)\n",
        "test_data.drop('UserReputation',axis=1,inplace=True)\n",
        "test_data.drop('CreationTimestamp',axis=1,inplace=True)\n",
        "test_data.drop('ReplyCount',axis=1,inplace=True)\n",
        "test_data.drop('ThumbsUpCount',axis=1,inplace=True)\n",
        "test_data.drop('ThumbsDownCount',axis=1,inplace=True)\n",
        "test_data.drop('BestScore',axis=1,inplace=True)"
      ]
    },
    {
      "cell_type": "code",
      "execution_count": 26,
      "metadata": {
        "execution": {
          "iopub.execute_input": "2024-03-31T09:08:12.800766Z",
          "iopub.status.busy": "2024-03-31T09:08:12.800372Z",
          "iopub.status.idle": "2024-03-31T09:08:12.808854Z",
          "shell.execute_reply": "2024-03-31T09:08:12.807501Z",
          "shell.execute_reply.started": "2024-03-31T09:08:12.800736Z"
        },
        "id": "6b83yac0CJnw",
        "trusted": true
      },
      "outputs": [],
      "source": [
        "# test_data.drop('RecipeName',axis=1,inplace=True)"
      ]
    },
    {
      "cell_type": "code",
      "execution_count": 27,
      "metadata": {
        "colab": {
          "base_uri": "https://localhost:8080/"
        },
        "execution": {
          "iopub.execute_input": "2024-03-31T13:53:30.392249Z",
          "iopub.status.busy": "2024-03-31T13:53:30.391759Z",
          "iopub.status.idle": "2024-03-31T13:53:30.410249Z",
          "shell.execute_reply": "2024-03-31T13:53:30.40865Z",
          "shell.execute_reply.started": "2024-03-31T13:53:30.392212Z"
        },
        "id": "LoHnoVYxCJnw",
        "outputId": "5784b0ea-37b6-48da-8124-716691755c28",
        "trusted": true
      },
      "outputs": [
        {
          "name": "stdout",
          "output_type": "stream",
          "text": [
            "<class 'pandas.core.frame.DataFrame'>\n",
            "RangeIndex: 4546 entries, 0 to 4545\n",
            "Data columns (total 5 columns):\n",
            " #   Column         Non-Null Count  Dtype \n",
            "---  ------         --------------  ----- \n",
            " 0   ID             4546 non-null   int64 \n",
            " 1   RecipeCode     4546 non-null   int64 \n",
            " 2   RecipeName     4546 non-null   object\n",
            " 3   UserID         4546 non-null   object\n",
            " 4   Recipe_Review  4546 non-null   object\n",
            "dtypes: int64(2), object(3)\n",
            "memory usage: 177.7+ KB\n"
          ]
        }
      ],
      "source": [
        "test_data.info()"
      ]
    },
    {
      "cell_type": "code",
      "execution_count": 28,
      "metadata": {
        "colab": {
          "base_uri": "https://localhost:8080/",
          "height": 241
        },
        "execution": {
          "iopub.execute_input": "2024-03-31T13:53:33.451525Z",
          "iopub.status.busy": "2024-03-31T13:53:33.450511Z",
          "iopub.status.idle": "2024-03-31T13:53:33.464582Z",
          "shell.execute_reply": "2024-03-31T13:53:33.463173Z",
          "shell.execute_reply.started": "2024-03-31T13:53:33.451468Z"
        },
        "id": "6q78OdVoCJnx",
        "outputId": "0edf7681-85c4-4976-a09b-b29a9adc0077",
        "trusted": true
      },
      "outputs": [
        {
          "data": {
            "text/html": [
              "<div>\n",
              "<style scoped>\n",
              "    .dataframe tbody tr th:only-of-type {\n",
              "        vertical-align: middle;\n",
              "    }\n",
              "\n",
              "    .dataframe tbody tr th {\n",
              "        vertical-align: top;\n",
              "    }\n",
              "\n",
              "    .dataframe thead th {\n",
              "        text-align: right;\n",
              "    }\n",
              "</style>\n",
              "<table border=\"1\" class=\"dataframe\">\n",
              "  <thead>\n",
              "    <tr style=\"text-align: right;\">\n",
              "      <th></th>\n",
              "      <th>0</th>\n",
              "    </tr>\n",
              "  </thead>\n",
              "  <tbody>\n",
              "    <tr>\n",
              "      <th>ID</th>\n",
              "      <td>0</td>\n",
              "    </tr>\n",
              "    <tr>\n",
              "      <th>RecipeCode</th>\n",
              "      <td>0</td>\n",
              "    </tr>\n",
              "    <tr>\n",
              "      <th>RecipeName</th>\n",
              "      <td>0</td>\n",
              "    </tr>\n",
              "    <tr>\n",
              "      <th>UserID</th>\n",
              "      <td>0</td>\n",
              "    </tr>\n",
              "    <tr>\n",
              "      <th>Recipe_Review</th>\n",
              "      <td>0</td>\n",
              "    </tr>\n",
              "  </tbody>\n",
              "</table>\n",
              "</div><br><label><b>dtype:</b> int64</label>"
            ],
            "text/plain": [
              "ID               0\n",
              "RecipeCode       0\n",
              "RecipeName       0\n",
              "UserID           0\n",
              "Recipe_Review    0\n",
              "dtype: int64"
            ]
          },
          "execution_count": 28,
          "metadata": {},
          "output_type": "execute_result"
        }
      ],
      "source": [
        "test_data.isnull().sum()"
      ]
    },
    {
      "cell_type": "code",
      "execution_count": 29,
      "metadata": {
        "execution": {
          "iopub.execute_input": "2024-03-31T13:53:36.686472Z",
          "iopub.status.busy": "2024-03-31T13:53:36.686065Z",
          "iopub.status.idle": "2024-03-31T13:53:36.916842Z",
          "shell.execute_reply": "2024-03-31T13:53:36.915475Z",
          "shell.execute_reply.started": "2024-03-31T13:53:36.686443Z"
        },
        "id": "NMy2UYo_CJnx",
        "trusted": true
      },
      "outputs": [],
      "source": [
        "from sklearn.preprocessing import MinMaxScaler, OneHotEncoder\n",
        "from sklearn.compose import ColumnTransformer\n",
        "from sklearn.pipeline import Pipeline"
      ]
    },
    {
      "cell_type": "code",
      "execution_count": 30,
      "metadata": {
        "colab": {
          "base_uri": "https://localhost:8080/"
        },
        "execution": {
          "iopub.execute_input": "2024-03-31T13:53:40.258769Z",
          "iopub.status.busy": "2024-03-31T13:53:40.25835Z",
          "iopub.status.idle": "2024-03-31T13:53:40.266245Z",
          "shell.execute_reply": "2024-03-31T13:53:40.265351Z",
          "shell.execute_reply.started": "2024-03-31T13:53:40.258738Z"
        },
        "id": "l160Us4ICJnx",
        "outputId": "bb531cba-05f4-4be4-8967-2e4b30069970",
        "trusted": true
      },
      "outputs": [
        {
          "name": "stdout",
          "output_type": "stream",
          "text": [
            "Index(['RecipeName', 'UserID', 'Recipe_Review'], dtype='object')\n"
          ]
        }
      ],
      "source": [
        "cat_cols = train_data.select_dtypes(include='object').columns\n",
        "print(cat_cols)"
      ]
    },
    {
      "cell_type": "code",
      "execution_count": 31,
      "metadata": {
        "colab": {
          "base_uri": "https://localhost:8080/"
        },
        "execution": {
          "iopub.execute_input": "2024-03-31T13:53:43.669959Z",
          "iopub.status.busy": "2024-03-31T13:53:43.668642Z",
          "iopub.status.idle": "2024-03-31T13:53:43.67935Z",
          "shell.execute_reply": "2024-03-31T13:53:43.676833Z",
          "shell.execute_reply.started": "2024-03-31T13:53:43.669892Z"
        },
        "id": "BNqCPnuMCJnx",
        "outputId": "dd4fa07d-50ef-4784-8eea-05d3e3af522e",
        "trusted": true
      },
      "outputs": [
        {
          "name": "stdout",
          "output_type": "stream",
          "text": [
            "Index(['ID', 'RecipeCode', 'Rating'], dtype='object')\n"
          ]
        }
      ],
      "source": [
        "num_cols = train_data.select_dtypes(include=['int64', 'float64']).columns\n",
        "print(num_cols)"
      ]
    },
    {
      "cell_type": "code",
      "execution_count": 32,
      "metadata": {
        "colab": {
          "base_uri": "https://localhost:8080/",
          "height": 1000
        },
        "execution": {
          "iopub.execute_input": "2024-03-31T13:53:47.816965Z",
          "iopub.status.busy": "2024-03-31T13:53:47.816415Z",
          "iopub.status.idle": "2024-03-31T13:53:48.747389Z",
          "shell.execute_reply": "2024-03-31T13:53:48.74597Z",
          "shell.execute_reply.started": "2024-03-31T13:53:47.816915Z"
        },
        "id": "ZzP4Lgq9CJnx",
        "outputId": "14d1b1ac-5b29-4446-c55e-5c5381c6391f",
        "trusted": true
      },
      "outputs": [
        {
          "data": {
            "image/png": "[encoded data removed]",
            "text/plain": [
              "<Figure size 800x600 with 1 Axes>"
            ]
          },
          "metadata": {},
          "output_type": "display_data"
        },
        {
          "data": {
            "image/png": "[encoded data removed]",
            "text/plain": [
              "<Figure size 800x600 with 1 Axes>"
            ]
          },
          "metadata": {},
          "output_type": "display_data"
        },
        {
          "data": {
            "image/png": "[encoded data removed]",
            "text/plain": [
              "<Figure size 800x600 with 1 Axes>"
            ]
          },
          "metadata": {},
          "output_type": "display_data"
        }
      ],
      "source": [
        "for col in num_cols:\n",
        "    plt.figure(figsize=(8, 6))\n",
        "    plt.hist(train_data[col], bins=20, color='skyblue', edgecolor='black')\n",
        "    plt.title(f'Histogram of {col}')\n",
        "    plt.xlabel(col)\n",
        "    plt.ylabel('Frequency')\n",
        "    plt.grid(True)\n",
        "    plt.show()"
      ]
    },
    {
      "cell_type": "code",
      "execution_count": 33,
      "metadata": {
        "colab": {
          "base_uri": "https://localhost:8080/",
          "height": 1000
        },
        "execution": {
          "iopub.execute_input": "2024-03-31T14:12:53.820014Z",
          "iopub.status.busy": "2024-03-31T14:12:53.819449Z",
          "iopub.status.idle": "2024-03-31T14:12:54.455234Z",
          "shell.execute_reply": "2024-03-31T14:12:54.45403Z",
          "shell.execute_reply.started": "2024-03-31T14:12:53.819976Z"
        },
        "id": "pKm3k4OFCJnx",
        "outputId": "92357024-2d75-4f9d-8eab-370f526c233b",
        "trusted": true
      },
      "outputs": [
        {
          "data": {
            "image/png": "[encoded data removed]",
            "text/plain": [
              "<Figure size 800x600 with 1 Axes>"
            ]
          },
          "metadata": {},
          "output_type": "display_data"
        },
        {
          "data": {
            "image/png": "[encoded data removed]",
            "text/plain": [
              "<Figure size 800x600 with 1 Axes>"
            ]
          },
          "metadata": {},
          "output_type": "display_data"
        },
        {
          "data": {
            "image/png": "[encoded data removed]",
            "text/plain": [
              "<Figure size 800x600 with 1 Axes>"
            ]
          },
          "metadata": {},
          "output_type": "display_data"
        }
      ],
      "source": [
        "for col in num_cols:\n",
        "    plt.figure(figsize=(8, 6))\n",
        "    plt.boxplot(train_data[col], patch_artist=True, showmeans=True)\n",
        "    plt.title(f'Boxplot of {col}')\n",
        "    plt.xlabel(col)\n",
        "    plt.ylabel('Value')\n",
        "    plt.grid(True)\n",
        "    plt.show()"
      ]
    },
    {
      "cell_type": "code",
      "execution_count": 34,
      "metadata": {
        "colab": {
          "base_uri": "https://localhost:8080/",
          "height": 751
        },
        "execution": {
          "iopub.execute_input": "2024-03-31T14:13:00.277079Z",
          "iopub.status.busy": "2024-03-31T14:13:00.276606Z",
          "iopub.status.idle": "2024-03-31T14:13:01.62412Z",
          "shell.execute_reply": "2024-03-31T14:13:01.622668Z",
          "shell.execute_reply.started": "2024-03-31T14:13:00.277046Z"
        },
        "id": "O2i4A47_CJnx",
        "outputId": "da81f941-536d-4c31-e58f-0fb63d9dd970",
        "trusted": true
      },
      "outputs": [
        {
          "data": {
            "text/plain": [
              "array([[<Axes: title={'center': 'ID'}>,\n",
              "        <Axes: title={'center': 'RecipeCode'}>],\n",
              "       [<Axes: title={'center': 'Rating'}>, <Axes: >]], dtype=object)"
            ]
          },
          "execution_count": 34,
          "metadata": {},
          "output_type": "execute_result"
        },
        {
          "data": {
            "image/png": "[encoded data removed]",
            "text/plain": [
              "<Figure size 1400x800 with 4 Axes>"
            ]
          },
          "metadata": {},
          "output_type": "display_data"
        }
      ],
      "source": [
        "train_data.hist(bins = 100, edgecolor = 'lime', figsize=(14,8))"
      ]
    },
    {
      "cell_type": "code",
      "execution_count": 35,
      "metadata": {
        "execution": {
          "iopub.execute_input": "2024-03-31T14:13:06.204319Z",
          "iopub.status.busy": "2024-03-31T14:13:06.203895Z",
          "iopub.status.idle": "2024-03-31T14:13:06.210387Z",
          "shell.execute_reply": "2024-03-31T14:13:06.208958Z",
          "shell.execute_reply.started": "2024-03-31T14:13:06.20429Z"
        },
        "id": "w9WVWRFHCJnx",
        "trusted": true
      },
      "outputs": [],
      "source": [
        "y = train_data['Rating']"
      ]
    },
    {
      "cell_type": "code",
      "execution_count": 36,
      "metadata": {
        "execution": {
          "iopub.execute_input": "2024-03-31T14:13:09.130025Z",
          "iopub.status.busy": "2024-03-31T14:13:09.12948Z",
          "iopub.status.idle": "2024-03-31T14:13:09.141605Z",
          "shell.execute_reply": "2024-03-31T14:13:09.13971Z",
          "shell.execute_reply.started": "2024-03-31T14:13:09.12998Z"
        },
        "id": "_68hFMX8CJny",
        "trusted": true
      },
      "outputs": [],
      "source": [
        "train_data.drop(columns=['Rating'], inplace=True)"
      ]
    },
    {
      "cell_type": "code",
      "execution_count": 37,
      "metadata": {
        "execution": {
          "iopub.execute_input": "2024-03-31T14:13:52.018488Z",
          "iopub.status.busy": "2024-03-31T14:13:52.017982Z",
          "iopub.status.idle": "2024-03-31T14:13:52.025983Z",
          "shell.execute_reply": "2024-03-31T14:13:52.023894Z",
          "shell.execute_reply.started": "2024-03-31T14:13:52.018445Z"
        },
        "id": "kovolGOsCJny",
        "trusted": true
      },
      "outputs": [],
      "source": [
        "num_cols = num_cols.drop('Rating')"
      ]
    },
    {
      "cell_type": "code",
      "execution_count": 38,
      "metadata": {
        "execution": {
          "iopub.execute_input": "2024-03-31T14:13:57.631059Z",
          "iopub.status.busy": "2024-03-31T14:13:57.630607Z",
          "iopub.status.idle": "2024-03-31T14:13:57.799733Z",
          "shell.execute_reply": "2024-03-31T14:13:57.79817Z",
          "shell.execute_reply.started": "2024-03-31T14:13:57.63103Z"
        },
        "id": "2BTJxzVkCJny",
        "trusted": true
      },
      "outputs": [],
      "source": [
        "categorical_transformer = Pipeline(steps=[('onehot', OneHotEncoder(handle_unknown='ignore'))])\n",
        "\n",
        "preprocessor = ColumnTransformer(\n",
        "    transformers=[\n",
        "        ('num', 'passthrough', num_cols),\n",
        "        ('cat', categorical_transformer, cat_cols)\n",
        "    ])\n",
        "\n",
        "\n",
        "pipeline = Pipeline(steps=[('preprocessor', preprocessor)])\n",
        "\n",
        "train_data_processed = pipeline.fit_transform(train_data)"
      ]
    },
    {
      "cell_type": "code",
      "execution_count": 39,
      "metadata": {
        "execution": {
          "iopub.execute_input": "2024-03-31T14:15:05.638918Z",
          "iopub.status.busy": "2024-03-31T14:15:05.638452Z",
          "iopub.status.idle": "2024-03-31T14:15:05.729889Z",
          "shell.execute_reply": "2024-03-31T14:15:05.728633Z",
          "shell.execute_reply.started": "2024-03-31T14:15:05.638888Z"
        },
        "id": "JRb15ik-CJny",
        "trusted": true
      },
      "outputs": [],
      "source": [
        "test_data_processed = pipeline.transform(test_data)"
      ]
    },
    {
      "cell_type": "code",
      "execution_count": 40,
      "metadata": {
        "colab": {
          "base_uri": "https://localhost:8080/"
        },
        "execution": {
          "iopub.execute_input": "2024-03-31T14:15:10.030756Z",
          "iopub.status.busy": "2024-03-31T14:15:10.030238Z",
          "iopub.status.idle": "2024-03-31T14:15:10.043894Z",
          "shell.execute_reply": "2024-03-31T14:15:10.042422Z",
          "shell.execute_reply.started": "2024-03-31T14:15:10.030721Z"
        },
        "id": "vm170HxyCJny",
        "outputId": "212378d3-eb16-4723-fd38-07070d16b05c",
        "trusted": true
      },
      "outputs": [
        {
          "name": "stdout",
          "output_type": "stream",
          "text": [
            "Correlation between ID and Rating: 0.04956845116371135\n",
            "Correlation between RecipeCode and Rating: -0.02068711183196835\n"
          ]
        }
      ],
      "source": [
        "correlation = train_data['ID'].corr(y)\n",
        "print(\"Correlation between ID and Rating:\", correlation)\n",
        "correlation = train_data['RecipeCode'].corr(y)\n",
        "print(\"Correlation between RecipeCode and Rating:\", correlation)\n",
        "\n",
        "# correlation = train_data['RecipeName'].corr(y)\n",
        "# print(\"Correlation between RecipeName and Rating:\", correlation)\n",
        "# correlation = train_data['UserID'].corr(y)\n",
        "# print(\"Correlation between UserID and Rating:\", correlation)\n",
        "# correlation = train_data['Recipe_Review'].corr(y)\n",
        "# print(\"Correlation between Recipe_Review and Rating:\", correlation)"
      ]
    },
    {
      "cell_type": "code",
      "execution_count": 46,
      "metadata": {
        "execution": {
          "iopub.execute_input": "2024-03-31T14:15:19.381762Z",
          "iopub.status.busy": "2024-03-31T14:15:19.381174Z",
          "iopub.status.idle": "2024-03-31T14:15:20.033759Z",
          "shell.execute_reply": "2024-03-31T14:15:20.0325Z",
          "shell.execute_reply.started": "2024-03-31T14:15:19.381719Z"
        },
        "id": "h1UjaHJsCJn2",
        "trusted": true
      },
      "outputs": [],
      "source": [
        "from sklearn.model_selection import train_test_split, GridSearchCV\n",
        "from sklearn.ensemble import RandomForestClassifier\n",
        "from sklearn.metrics import accuracy_score"
      ]
    },
    {
      "cell_type": "code",
      "execution_count": 47,
      "metadata": {
        "execution": {
          "iopub.execute_input": "2024-03-31T14:18:11.005389Z",
          "iopub.status.busy": "2024-03-31T14:18:11.004864Z",
          "iopub.status.idle": "2024-03-31T14:18:11.01245Z",
          "shell.execute_reply": "2024-03-31T14:18:11.01064Z",
          "shell.execute_reply.started": "2024-03-31T14:18:11.005343Z"
        },
        "id": "wxLgPvOMCJn2",
        "trusted": true
      },
      "outputs": [],
      "source": [
        "X = train_data_processed"
      ]
    },
    {
      "cell_type": "code",
      "execution_count": 48,
      "metadata": {
        "execution": {
          "iopub.execute_input": "2024-03-31T14:18:15.114206Z",
          "iopub.status.busy": "2024-03-31T14:18:15.113731Z",
          "iopub.status.idle": "2024-03-31T14:18:15.127221Z",
          "shell.execute_reply": "2024-03-31T14:18:15.126253Z",
          "shell.execute_reply.started": "2024-03-31T14:18:15.114174Z"
        },
        "id": "wfuUdlPUCJn2",
        "trusted": true
      },
      "outputs": [],
      "source": [
        "X_train, X_val, y_train, y_val = train_test_split(X, y, test_size=0.2, random_state=42)"
      ]
    },
    {
      "cell_type": "code",
      "execution_count": null,
      "metadata": {
        "execution": {
          "iopub.execute_input": "2024-03-31T14:18:38.117831Z",
          "iopub.status.busy": "2024-03-31T14:18:38.117421Z",
          "iopub.status.idle": "2024-03-31T14:18:38.125033Z",
          "shell.execute_reply": "2024-03-31T14:18:38.123769Z",
          "shell.execute_reply.started": "2024-03-31T14:18:38.1178Z"
        },
        "id": "4GxhJefXCJn3",
        "trusted": true
      },
      "outputs": [],
      "source": [
        "rf_classifier = RandomForestClassifier()\n",
        "\n",
        "param_grid = {\n",
        "    'n_estimators': [100, 200, 300],\n",
        "    'max_depth': [None, 10, 20],\n",
        "    'min_samples_split': [2, 5, 10],\n",
        "    'min_samples_leaf': [1, 2, 4]\n",
        "}\n",
        "\n",
        "grid_search = GridSearchCV(estimator=rf_classifier, param_grid=param_grid, cv=5, n_jobs=-1, verbose=2)"
      ]
    },
    {
      "cell_type": "code",
      "execution_count": null,
      "metadata": {
        "colab": {
          "base_uri": "https://localhost:8080/"
        },
        "execution": {
          "iopub.execute_input": "2024-03-31T14:18:43.495896Z",
          "iopub.status.busy": "2024-03-31T14:18:43.495465Z",
          "iopub.status.idle": "2024-03-31T14:19:05.784051Z",
          "shell.execute_reply": "2024-03-31T14:19:05.781723Z",
          "shell.execute_reply.started": "2024-03-31T14:18:43.495865Z"
        },
        "id": "K82Ca8BOCJn3",
        "outputId": "2afb7b0d-cb22-423f-c7a1-015c9ed1f45d",
        "trusted": true
      },
      "outputs": [
        {
          "name": "stdout",
          "output_type": "stream",
          "text": [
            "Fitting 5 folds for each of 81 candidates, totalling 405 fits\n"
          ]
        }
      ],
      "source": [
        "grid_search.fit(X_train, y_train)\n",
        "\n",
        "# Step 7: Evaluate the model's performance on the validation set\n",
        "# Get the best estimator from the grid search\n",
        "best_rf_classifier = grid_search.best_estimator_\n",
        "\n",
        "# Predict ratings on the validation set\n",
        "y_pred_val = best_rf_classifier.predict(X_val)"
      ]
    },
    {
      "cell_type": "code",
      "execution_count": null,
      "metadata": {
        "execution": {
          "iopub.execute_input": "2024-03-31T10:14:23.497129Z",
          "iopub.status.busy": "2024-03-31T10:14:23.496614Z",
          "iopub.status.idle": "2024-03-31T10:14:23.505713Z",
          "shell.execute_reply": "2024-03-31T10:14:23.504424Z",
          "shell.execute_reply.started": "2024-03-31T10:14:23.497082Z"
        },
        "id": "yixBC7Z-CJn3",
        "trusted": true
      },
      "outputs": [],
      "source": [
        "accuracy = accuracy_score(y_val, y_pred_val)\n",
        "print(\"Accuracy on validation set:\", accuracy)"
      ]
    },
    {
      "cell_type": "code",
      "execution_count": null,
      "metadata": {
        "execution": {
          "iopub.execute_input": "2024-03-31T10:14:30.751526Z",
          "iopub.status.busy": "2024-03-31T10:14:30.750823Z",
          "iopub.status.idle": "2024-03-31T10:14:30.75918Z",
          "shell.execute_reply": "2024-03-31T10:14:30.758013Z",
          "shell.execute_reply.started": "2024-03-31T10:14:30.751494Z"
        },
        "id": "V1rAwt8VCJn3",
        "trusted": true
      },
      "outputs": [],
      "source": [
        "print(best_rf_classifier)"
      ]
    },
    {
      "cell_type": "code",
      "execution_count": null,
      "metadata": {
        "execution": {
          "iopub.execute_input": "2024-03-31T10:15:08.611426Z",
          "iopub.status.busy": "2024-03-31T10:15:08.611022Z",
          "iopub.status.idle": "2024-03-31T10:15:12.695404Z",
          "shell.execute_reply": "2024-03-31T10:15:12.694119Z",
          "shell.execute_reply.started": "2024-03-31T10:15:08.611396Z"
        },
        "id": "KUyYvUpeCJn3",
        "trusted": true
      },
      "outputs": [],
      "source": [
        "y_pred_test_rf = best_rf_classifier.predict(test_data_processed)"
      ]
    },
    {
      "cell_type": "code",
      "execution_count": null,
      "metadata": {
        "execution": {
          "iopub.execute_input": "2024-03-28T11:34:59.07466Z",
          "iopub.status.busy": "2024-03-28T11:34:59.074272Z",
          "iopub.status.idle": "2024-03-28T11:55:20.53154Z",
          "shell.execute_reply": "2024-03-28T11:55:20.530098Z",
          "shell.execute_reply.started": "2024-03-28T11:34:59.074633Z"
        },
        "id": "ILaVIwLpCJn3",
        "trusted": true
      },
      "outputs": [],
      "source": [
        "from sklearn.model_selection import KFold\n",
        "from sklearn.linear_model import LogisticRegression\n",
        "from sklearn.pipeline import make_pipeline\n",
        "from sklearn.preprocessing import StandardScaler\n",
        "\n",
        "# Define the pipeline\n",
        "pipeline = make_pipeline(StandardScaler(with_mean=False), LogisticRegression(max_iter=1000))\n",
        "\n",
        "# Define the parameter grid\n",
        "param_grid = {\n",
        "    'logisticregression__C': [0.001, 0.01, 0.1, 1, 10, 100],  # Regularization parameter\n",
        "}\n",
        "\n",
        "# Define the number of folds for cross-validation\n",
        "num_folds = [5, 10, 15]\n",
        "\n",
        "for folds in num_folds:\n",
        "    print(f\"\\nNumber of Folds: {folds}\\n\")\n",
        "\n",
        "    # Perform cross-validation with hyperparameter tuning\n",
        "    grid_search = GridSearchCV(pipeline, param_grid, cv=KFold(n_splits=folds, shuffle=True, random_state=42), verbose=2, scoring='accuracy')\n",
        "\n",
        "    # Fit the model\n",
        "    grid_search.fit(X_train, y_train)\n",
        "\n",
        "    # Get the best estimator from the grid search\n",
        "    best_logistic_regression = grid_search.best_estimator_\n",
        "\n",
        "    # Predict ratings on the validation set\n",
        "    y_pred_val = best_logistic_regression.predict(X_val)\n",
        "\n",
        "    # Print the best hyperparameters\n",
        "    print(\"Best hyperparameters:\", grid_search.best_params_)\n",
        "\n",
        "    # Print the accuracy score\n",
        "    accuracy = accuracy_score(y_val, y_pred_val)\n",
        "    print(\"Accuracy:\", accuracy)"
      ]
    },
    {
      "cell_type": "code",
      "execution_count": null,
      "metadata": {
        "execution": {
          "iopub.execute_input": "2024-03-28T11:55:20.534756Z",
          "iopub.status.busy": "2024-03-28T11:55:20.534247Z",
          "iopub.status.idle": "2024-03-28T11:55:20.549622Z",
          "shell.execute_reply": "2024-03-28T11:55:20.548131Z",
          "shell.execute_reply.started": "2024-03-28T11:55:20.534697Z"
        },
        "id": "z7vChB64CJn3",
        "trusted": true
      },
      "outputs": [],
      "source": [
        "# Predict ratings on the test set\n",
        "y_pred_test_lr = best_logistic_regression.predict(test_data_processed)"
      ]
    },
    {
      "cell_type": "code",
      "execution_count": null,
      "metadata": {
        "id": "_vXqPjvzCJn3"
      },
      "outputs": [],
      "source": [
        "from sklearn.neighbors import KNeighborsClassifier\n",
        "\n",
        "# Define the KNN classifier\n",
        "knn_classifier = KNeighborsClassifier()\n",
        "\n",
        "# Define the parameter grid\n",
        "param_grid_knn = {\n",
        "    'n_neighbors': [3, 5, 7, 9, 11],  # Number of neighbors\n",
        "    'weights': ['uniform', 'distance'],  # Weight function used in prediction\n",
        "}\n",
        "\n",
        "# Different values of cross-validation\n",
        "cv_values = [5, 10, 15]\n",
        "\n",
        "for cv in cv_values:\n",
        "    print(f\"\\nNumber of Folds: {cv}\\n\")\n",
        "\n",
        "    # Perform grid search with cross-validation\n",
        "    grid_search_knn = GridSearchCV(knn_classifier, param_grid_knn, cv=cv, scoring='accuracy', verbose=2, n_jobs=-1)\n",
        "\n",
        "    # Fit the grid search to the data\n",
        "    grid_search_knn.fit(X_train, y_train)\n",
        "\n",
        "    # Get the best KNN model\n",
        "    best_knn_model = grid_search_knn.best_estimator_\n",
        "\n",
        "    # Print the best hyperparameters\n",
        "    print(\"Best hyperparameters for KNN:\", grid_search_knn.best_params_)\n",
        "\n",
        "    # Predict ratings on the validation set\n",
        "    y_pred_val_knn = best_knn_model.predict(X_val)\n",
        "\n",
        "    # Calculate accuracy\n",
        "    accuracy_knn = accuracy_score(y_val, y_pred_val_knn)\n",
        "    print(\"Accuracy for KNN:\", accuracy_knn)"
      ]
    },
    {
      "cell_type": "code",
      "execution_count": null,
      "metadata": {
        "id": "up8x9Z41CJn3"
      },
      "outputs": [],
      "source": [
        "# Predict ratings on the test set\n",
        "y_pred_test_knn = best_knn_model.predict(test_data_processed)"
      ]
    },
    {
      "cell_type": "code",
      "execution_count": null,
      "metadata": {
        "id": "XWnorpAfCJn4"
      },
      "outputs": [],
      "source": [
        "from sklearn.svm import SVC\n",
        "\n",
        "# Define the SVM classifier\n",
        "svm_classifier = SVC()\n",
        "\n",
        "# Define the parameter grid\n",
        "param_grid_svm = {\n",
        "    'C': [0.1, 1, 10, 100],  # Regularization parameter\n",
        "    'gamma': ['scale', 'auto'],  # Kernel coefficient\n",
        "}\n",
        "\n",
        "# Different values of cross-validation\n",
        "cv_values = [5, 10, 15]\n",
        "\n",
        "for cv in cv_values:\n",
        "    print(f\"\\nNumber of Folds: {cv}\\n\")\n",
        "\n",
        "    # Perform grid search with cross-validation\n",
        "    grid_search_svm = GridSearchCV(svm_classifier, param_grid_svm, cv=cv, scoring='accuracy', verbose=2, n_jobs=-1)\n",
        "\n",
        "    # Fit the grid search to the data\n",
        "    grid_search_svm.fit(X_train, y_train)\n",
        "\n",
        "    # Get the best SVM model\n",
        "    best_svm_model = grid_search_svm.best_estimator_\n",
        "\n",
        "    # Print the best hyperparameters\n",
        "    print(\"Best hyperparameters for SVM:\", grid_search_svm.best_params_)\n",
        "\n",
        "    # Predict ratings on the validation set\n",
        "    y_pred_val_svm = best_svm_model.predict(X_val)\n",
        "\n",
        "    # Calculate accuracy\n",
        "    accuracy_svm = accuracy_score(y_val, y_pred_val_svm)\n",
        "    print(\"Accuracy for SVM:\", accuracy_svm)"
      ]
    },
    {
      "cell_type": "code",
      "execution_count": null,
      "metadata": {
        "id": "0nNHih34CJn4"
      },
      "outputs": [],
      "source": [
        "# Predict ratings on the test set\n",
        "y_pred_test_svm = best_svm_model.predict(test_data_processed)"
      ]
    },
    {
      "cell_type": "code",
      "execution_count": null,
      "metadata": {
        "execution": {
          "iopub.execute_input": "2024-03-31T05:47:41.767373Z",
          "iopub.status.busy": "2024-03-31T05:47:41.766985Z",
          "iopub.status.idle": "2024-03-31T05:47:41.772589Z",
          "shell.execute_reply": "2024-03-31T05:47:41.771493Z",
          "shell.execute_reply.started": "2024-03-31T05:47:41.767344Z"
        },
        "id": "M4U5BvDjCJn4",
        "trusted": true
      },
      "outputs": [],
      "source": [
        "# Define the number of folds for cross-validation\n",
        "num_folds = [4, 8, 12, 15]"
      ]
    },
    {
      "cell_type": "code",
      "execution_count": null,
      "metadata": {
        "id": "XryUEKAtCJn4"
      },
      "outputs": [],
      "source": [
        "from sklearn.tree import DecisionTreeClassifier\n",
        "\n",
        "# Define the Decision Tree classifier\n",
        "dt_classifier = DecisionTreeClassifier()\n",
        "\n",
        "# Define the parameter grid\n",
        "param_grid_dt = {\n",
        "    'max_depth': [None, 5, 10, 15, 20, 30],\n",
        "    'min_samples_split': [2, 5, 10],\n",
        "    'min_samples_leaf': [1, 2, 4]\n",
        "}\n",
        "\n",
        "# Define the number of folds for cross-validation\n",
        "num_folds = [4, 8, 12, 15]\n",
        "\n",
        "for folds in num_folds:\n",
        "    print(f\"\\nNumber of Folds: {folds}\\n\")\n",
        "\n",
        "    # Perform cross-validation with hyperparameter tuning\n",
        "    grid_search_dt = GridSearchCV(dt_classifier, param_grid_dt, cv=folds, verbose=2, scoring='accuracy')\n",
        "\n",
        "    # Fit the model\n",
        "    grid_search_dt.fit(X_train, y_train)\n",
        "\n",
        "    # Get the best estimator from the grid search\n",
        "    best_dt_classifier = grid_search_dt.best_estimator_\n",
        "\n",
        "    # Predict ratings on the validation set\n",
        "    y_pred_val_dt = best_dt_classifier.predict(X_val)\n",
        "\n",
        "    # Print the best hyperparameters\n",
        "    print(\"Best hyperparameters:\", grid_search_dt.best_params_)\n",
        "\n",
        "    # Print the accuracy score\n",
        "    accuracy_dt = accuracy_score(y_val, y_pred_val_dt)\n",
        "    print(\"Accuracy:\", accuracy_dt)"
      ]
    },
    {
      "cell_type": "code",
      "execution_count": null,
      "metadata": {
        "id": "vF5KY07xCJn4"
      },
      "outputs": [],
      "source": [
        "# Predict ratings on the test set\n",
        "y_pred_test_dt = best_dt_classifier.predict(test_data_processed)"
      ]
    },
    {
      "cell_type": "code",
      "execution_count": null,
      "metadata": {
        "id": "5iEFR_1XCJn4"
      },
      "outputs": [],
      "source": [
        "from sklearn.ensemble import BaggingClassifier\n",
        "\n",
        "# Define the base classifier for Bagging\n",
        "base_classifier = DecisionTreeClassifier()\n",
        "\n",
        "# Define the Bagging classifier\n",
        "bagging_classifier = BaggingClassifier(base_estimator=base_classifier)\n",
        "\n",
        "# Define the parameter grid\n",
        "param_grid_bagging = {\n",
        "    'n_estimators': [10, 20, 30],\n",
        "    'max_samples': [0.5, 0.7, 1.0],\n",
        "    'max_features': [0.5, 0.7, 1.0]\n",
        "}\n",
        "\n",
        "for folds in num_folds:\n",
        "    print(f\"\\nNumber of Folds: {folds}\\n\")\n",
        "\n",
        "    # Perform cross-validation with hyperparameter tuning\n",
        "    grid_search_bagging = GridSearchCV(bagging_classifier, param_grid_bagging, cv=folds, verbose=2, scoring='accuracy')\n",
        "\n",
        "    # Fit the model\n",
        "    grid_search_bagging.fit(X_train, y_train)\n",
        "\n",
        "    # Get the best estimator from the grid search\n",
        "    best_bagging_classifier = grid_search_bagging.best_estimator_\n",
        "\n",
        "    # Predict ratings on the validation set\n",
        "    y_pred_val_bagging = best_bagging_classifier.predict(X_val)\n",
        "\n",
        "    # Print the best hyperparameters\n",
        "    print(\"Best hyperparameters:\", grid_search_bagging.best_params_)\n",
        "\n",
        "    # Print the accuracy score\n",
        "    accuracy_bagging = accuracy_score(y_val, y_pred_val_bagging)\n",
        "    print(\"Accuracy:\", accuracy_bagging)"
      ]
    },
    {
      "cell_type": "code",
      "execution_count": null,
      "metadata": {
        "id": "i5IsBfmICJn4"
      },
      "outputs": [],
      "source": [
        "# Predict ratings on the test set\n",
        "y_pred_test_bagging = best_bagging_classifier.predict(test_data_processed)"
      ]
    },
    {
      "cell_type": "code",
      "execution_count": null,
      "metadata": {
        "execution": {
          "iopub.execute_input": "2024-03-31T05:47:51.86227Z",
          "iopub.status.busy": "2024-03-31T05:47:51.861857Z"
        },
        "id": "Zf-d2ur9CJn5",
        "trusted": true
      },
      "outputs": [],
      "source": [
        "from sklearn.neural_network import MLPClassifier\n",
        "\n",
        "# Define the MLP classifier\n",
        "mlp_classifier = MLPClassifier()\n",
        "\n",
        "# Define the parameter grid\n",
        "param_grid_mlp = {\n",
        "    'hidden_layer_sizes': [(50,), (100,), (50, 50), (100, 100)],\n",
        "    'activation': ['relu', 'tanh', 'logistic'],\n",
        "    'solver': ['adam', 'sgd'],\n",
        "    'alpha': [0.0001, 0.001, 0.01],\n",
        "    'learning_rate': ['constant', 'adaptive']\n",
        "}\n",
        "\n",
        "for folds in num_folds:\n",
        "    print(f\"\\nNumber of Folds: {folds}\\n\")\n",
        "\n",
        "    # Perform cross-validation with hyperparameter tuning\n",
        "    grid_search_mlp = GridSearchCV(mlp_classifier, param_grid_mlp, cv=folds, verbose=2, scoring='accuracy')\n",
        "\n",
        "    # Fit the model\n",
        "    grid_search_mlp.fit(X_train, y_train)\n",
        "\n",
        "    # Get the best estimator from the grid search\n",
        "    best_mlp_classifier = grid_search_mlp.best_estimator_\n",
        "\n",
        "    # Predict ratings on the validation set\n",
        "    y_pred_val_mlp = best_mlp_classifier.predict(X_val)\n",
        "\n",
        "    # Print the best hyperparameters\n",
        "    print(\"Best hyperparameters:\", grid_search_mlp.best_params_)\n",
        "\n",
        "    # Print the accuracy score\n",
        "    accuracy_mlp = accuracy_score(y_val, y_pred_val_mlp)\n",
        "    print(\"Accuracy:\", accuracy_mlp)"
      ]
    },
    {
      "cell_type": "code",
      "execution_count": null,
      "metadata": {
        "id": "zvvAxp1LCJn5"
      },
      "outputs": [],
      "source": [
        "# Predict ratings on the test set\n",
        "y_pred_test_mlp = best_mlp_classifier.predict(test_data_processed)"
      ]
    },
    {
      "cell_type": "code",
      "execution_count": null,
      "metadata": {
        "execution": {
          "iopub.execute_input": "2024-03-31T14:20:02.430769Z",
          "iopub.status.busy": "2024-03-31T14:20:02.429186Z",
          "iopub.status.idle": "2024-03-31T14:20:02.436081Z",
          "shell.execute_reply": "2024-03-31T14:20:02.434875Z",
          "shell.execute_reply.started": "2024-03-31T14:20:02.430712Z"
        },
        "id": "w4YFm4nhCJn5",
        "trusted": true
      },
      "outputs": [],
      "source": [
        "# Models and their accuracy scores\n",
        "# RandomForestClassifier Model - 0.77298\n",
        "# LogisticRegression Model - 0.76748\n",
        "# KNN Model - 0.76088\n",
        "# SVM Model - 0.76638\n",
        "# DecisionTree Model - 0.76440\n",
        "# RandomForestClassifier Model (without RecipeName column) - 0.76880"
      ]
    },
    {
      "cell_type": "code",
      "execution_count": null,
      "metadata": {
        "execution": {
          "iopub.execute_input": "2024-03-31T10:15:27.814013Z",
          "iopub.status.busy": "2024-03-31T10:15:27.813564Z",
          "iopub.status.idle": "2024-03-31T10:15:27.842385Z",
          "shell.execute_reply": "2024-03-31T10:15:27.841148Z",
          "shell.execute_reply.started": "2024-03-31T10:15:27.813974Z"
        },
        "id": "VfvmZdpgCJn5",
        "trusted": true
      },
      "outputs": [],
      "source": [
        "submission = pd.DataFrame(columns=[\"ID\", \"Rating\"])\n",
        "submission[\"ID\"] = [i for i in range(1,len(y_pred_test_rf)+1)]\n",
        "submission[\"Rating\"] = y_pred_test_rf\n",
        "\n",
        "# Save the submission file\n",
        "submission.to_csv('submission.csv', index=False)"
      ]
    }
  ],
  "metadata": {
    "colab": {
      "name": "21f1001547-notebook-t12024",
      "provenance": []
    },
    "kaggle": {
      "accelerator": "none",
      "dataSources": [
        {
          "databundleVersionId": 7452256,
          "sourceId": 67079,
          "sourceType": "competition"
        }
      ],
      "dockerImageVersionId": 30646,
      "isGpuEnabled": false,
      "isInternetEnabled": true,
      "language": "python",
      "sourceType": "notebook"
    },
    "kernelspec": {
      "display_name": "Python 3",
      "language": "python",
      "name": "python3"
    },
    "language_info": {
      "codemirror_mode": {
        "name": "ipython",
        "version": 3
      },
      "file_extension": ".py",
      "mimetype": "text/x-python",
      "name": "python",
      "nbconvert_exporter": "python",
      "pygments_lexer": "ipython3",
      "version": "3.10.13"
    },
    "widgets": {
      "application/vnd.jupyter.widget-state+json": {
        "1e47e907fe61436c957d1d37277a25e1": {
          "model_module": "@jupyter-widgets/controls",
          "model_module_version": "1.5.0",
          "model_name": "ButtonModel",
          "state": {
            "_dom_classes": [],
            "_model_module": "@jupyter-widgets/controls",
            "_model_module_version": "1.5.0",
            "_model_name": "ButtonModel",
            "_view_count": null,
            "_view_module": "@jupyter-widgets/controls",
            "_view_module_version": "1.5.0",
            "_view_name": "ButtonView",
            "button_style": "",
            "description": "Login",
            "disabled": false,
            "icon": "",
            "layout": "IPY_MODEL_2549d4c0c62b4e65b7db686e19cfcf86",
            "style": "IPY_MODEL_41db11a5950b4b2299e997473c3032fa",
            "tooltip": ""
          }
        },
        "2549d4c0c62b4e65b7db686e19cfcf86": {
          "model_module": "@jupyter-widgets/base",
          "model_module_version": "1.2.0",
          "model_name": "LayoutModel",
          "state": {
            "_model_module": "@jupyter-widgets/base",
            "_model_module_version": "1.2.0",
            "_model_name": "LayoutModel",
            "_view_count": null,
            "_view_module": "@jupyter-widgets/base",
            "_view_module_version": "1.2.0",
            "_view_name": "LayoutView",
            "align_content": null,
            "align_items": null,
            "align_self": null,
            "border": null,
            "bottom": null,
            "display": null,
            "flex": null,
            "flex_flow": null,
            "grid_area": null,
            "grid_auto_columns": null,
            "grid_auto_flow": null,
            "grid_auto_rows": null,
            "grid_column": null,
            "grid_gap": null,
            "grid_row": null,
            "grid_template_areas": null,
            "grid_template_columns": null,
            "grid_template_rows": null,
            "height": null,
            "justify_content": null,
            "justify_items": null,
            "left": null,
            "margin": null,
            "max_height": null,
            "max_width": null,
            "min_height": null,
            "min_width": null,
            "object_fit": null,
            "object_position": null,
            "order": null,
            "overflow": null,
            "overflow_x": null,
            "overflow_y": null,
            "padding": null,
            "right": null,
            "top": null,
            "visibility": null,
            "width": null
          }
        },
        "41db11a5950b4b2299e997473c3032fa": {
          "model_module": "@jupyter-widgets/controls",
          "model_module_version": "1.5.0",
          "model_name": "ButtonStyleModel",
          "state": {
            "_model_module": "@jupyter-widgets/controls",
            "_model_module_version": "1.5.0",
            "_model_name": "ButtonStyleModel",
            "_view_count": null,
            "_view_module": "@jupyter-widgets/base",
            "_view_module_version": "1.2.0",
            "_view_name": "StyleView",
            "button_color": null,
            "font_weight": ""
          }
        },
        "440ffb6e4c0c46119296d545013ed7fd": {
          "model_module": "@jupyter-widgets/base",
          "model_module_version": "1.2.0",
          "model_name": "LayoutModel",
          "state": {
            "_model_module": "@jupyter-widgets/base",
            "_model_module_version": "1.2.0",
            "_model_name": "LayoutModel",
            "_view_count": null,
            "_view_module": "@jupyter-widgets/base",
            "_view_module_version": "1.2.0",
            "_view_name": "LayoutView",
            "align_content": null,
            "align_items": null,
            "align_self": null,
            "border": null,
            "bottom": null,
            "display": null,
            "flex": null,
            "flex_flow": null,
            "grid_area": null,
            "grid_auto_columns": null,
            "grid_auto_flow": null,
            "grid_auto_rows": null,
            "grid_column": null,
            "grid_gap": null,
            "grid_row": null,
            "grid_template_areas": null,
            "grid_template_columns": null,
            "grid_template_rows": null,
            "height": null,
            "justify_content": null,
            "justify_items": null,
            "left": null,
            "margin": null,
            "max_height": null,
            "max_width": null,
            "min_height": null,
            "min_width": null,
            "object_fit": null,
            "object_position": null,
            "order": null,
            "overflow": null,
            "overflow_x": null,
            "overflow_y": null,
            "padding": null,
            "right": null,
            "top": null,
            "visibility": null,
            "width": null
          }
        },
        "4bd4c1180ce84ef48b5bbb241a9d1b09": {
          "model_module": "@jupyter-widgets/controls",
          "model_module_version": "1.5.0",
          "model_name": "DescriptionStyleModel",
          "state": {
            "_model_module": "@jupyter-widgets/controls",
            "_model_module_version": "1.5.0",
            "_model_name": "DescriptionStyleModel",
            "_view_count": null,
            "_view_module": "@jupyter-widgets/base",
            "_view_module_version": "1.2.0",
            "_view_name": "StyleView",
            "description_width": ""
          }
        },
        "5893d83fb3664ca48708d81512d3ead4": {
          "model_module": "@jupyter-widgets/controls",
          "model_module_version": "1.5.0",
          "model_name": "DescriptionStyleModel",
          "state": {
            "_model_module": "@jupyter-widgets/controls",
            "_model_module_version": "1.5.0",
            "_model_name": "DescriptionStyleModel",
            "_view_count": null,
            "_view_module": "@jupyter-widgets/base",
            "_view_module_version": "1.2.0",
            "_view_name": "StyleView",
            "description_width": ""
          }
        },
        "6269d0559e1c47a1828422ab61eed5cd": {
          "model_module": "@jupyter-widgets/base",
          "model_module_version": "1.2.0",
          "model_name": "LayoutModel",
          "state": {
            "_model_module": "@jupyter-widgets/base",
            "_model_module_version": "1.2.0",
            "_model_name": "LayoutModel",
            "_view_count": null,
            "_view_module": "@jupyter-widgets/base",
            "_view_module_version": "1.2.0",
            "_view_name": "LayoutView",
            "align_content": null,
            "align_items": null,
            "align_self": null,
            "border": null,
            "bottom": null,
            "display": null,
            "flex": null,
            "flex_flow": null,
            "grid_area": null,
            "grid_auto_columns": null,
            "grid_auto_flow": null,
            "grid_auto_rows": null,
            "grid_column": null,
            "grid_gap": null,
            "grid_row": null,
            "grid_template_areas": null,
            "grid_template_columns": null,
            "grid_template_rows": null,
            "height": null,
            "justify_content": null,
            "justify_items": null,
            "left": null,
            "margin": null,
            "max_height": null,
            "max_width": null,
            "min_height": null,
            "min_width": null,
            "object_fit": null,
            "object_position": null,
            "order": null,
            "overflow": null,
            "overflow_x": null,
            "overflow_y": null,
            "padding": null,
            "right": null,
            "top": null,
            "visibility": null,
            "width": null
          }
        },
        "72afab8bffb84e90bf9cede1d89ed733": {
          "model_module": "@jupyter-widgets/controls",
          "model_module_version": "1.5.0",
          "model_name": "TextModel",
          "state": {
            "_dom_classes": [],
            "_model_module": "@jupyter-widgets/controls",
            "_model_module_version": "1.5.0",
            "_model_name": "TextModel",
            "_view_count": null,
            "_view_module": "@jupyter-widgets/controls",
            "_view_module_version": "1.5.0",
            "_view_name": "TextView",
            "continuous_update": true,
            "description": "Username:",
            "description_tooltip": null,
            "disabled": false,
            "layout": "IPY_MODEL_cfa4586982024cd89a58698714dfbaa1",
            "placeholder": "​",
            "style": "IPY_MODEL_7343ccd3f482424c8f3c70a3d7e6e437",
            "value": "yashwantraj"
          }
        },
        "7343ccd3f482424c8f3c70a3d7e6e437": {
          "model_module": "@jupyter-widgets/controls",
          "model_module_version": "1.5.0",
          "model_name": "DescriptionStyleModel",
          "state": {
            "_model_module": "@jupyter-widgets/controls",
            "_model_module_version": "1.5.0",
            "_model_name": "DescriptionStyleModel",
            "_view_count": null,
            "_view_module": "@jupyter-widgets/base",
            "_view_module_version": "1.2.0",
            "_view_name": "StyleView",
            "description_width": ""
          }
        },
        "78c90597bcf84544a14d7c2991da665e": {
          "model_module": "@jupyter-widgets/controls",
          "model_module_version": "1.5.0",
          "model_name": "DescriptionStyleModel",
          "state": {
            "_model_module": "@jupyter-widgets/controls",
            "_model_module_version": "1.5.0",
            "_model_name": "DescriptionStyleModel",
            "_view_count": null,
            "_view_module": "@jupyter-widgets/base",
            "_view_module_version": "1.2.0",
            "_view_name": "StyleView",
            "description_width": ""
          }
        },
        "7cf6c5327cb24f1f9da3366837db1367": {
          "model_module": "@jupyter-widgets/controls",
          "model_module_version": "1.5.0",
          "model_name": "VBoxModel",
          "state": {
            "_dom_classes": [],
            "_model_module": "@jupyter-widgets/controls",
            "_model_module_version": "1.5.0",
            "_model_name": "VBoxModel",
            "_view_count": null,
            "_view_module": "@jupyter-widgets/controls",
            "_view_module_version": "1.5.0",
            "_view_name": "VBoxView",
            "box_style": "",
            "children": [
              "IPY_MODEL_93a73ad92e4d4ab4aac877f7ec43fb62"
            ],
            "layout": "IPY_MODEL_f736eb626b774738ae9c2886e40f4c94"
          }
        },
        "836d0f5a418f479f988926d5f70552cb": {
          "model_module": "@jupyter-widgets/base",
          "model_module_version": "1.2.0",
          "model_name": "LayoutModel",
          "state": {
            "_model_module": "@jupyter-widgets/base",
            "_model_module_version": "1.2.0",
            "_model_name": "LayoutModel",
            "_view_count": null,
            "_view_module": "@jupyter-widgets/base",
            "_view_module_version": "1.2.0",
            "_view_name": "LayoutView",
            "align_content": null,
            "align_items": null,
            "align_self": null,
            "border": null,
            "bottom": null,
            "display": null,
            "flex": null,
            "flex_flow": null,
            "grid_area": null,
            "grid_auto_columns": null,
            "grid_auto_flow": null,
            "grid_auto_rows": null,
            "grid_column": null,
            "grid_gap": null,
            "grid_row": null,
            "grid_template_areas": null,
            "grid_template_columns": null,
            "grid_template_rows": null,
            "height": null,
            "justify_content": null,
            "justify_items": null,
            "left": null,
            "margin": null,
            "max_height": null,
            "max_width": null,
            "min_height": null,
            "min_width": null,
            "object_fit": null,
            "object_position": null,
            "order": null,
            "overflow": null,
            "overflow_x": null,
            "overflow_y": null,
            "padding": null,
            "right": null,
            "top": null,
            "visibility": null,
            "width": null
          }
        },
        "93a73ad92e4d4ab4aac877f7ec43fb62": {
          "model_module": "@jupyter-widgets/controls",
          "model_module_version": "1.5.0",
          "model_name": "LabelModel",
          "state": {
            "_dom_classes": [],
            "_model_module": "@jupyter-widgets/controls",
            "_model_module_version": "1.5.0",
            "_model_name": "LabelModel",
            "_view_count": null,
            "_view_module": "@jupyter-widgets/controls",
            "_view_module_version": "1.5.0",
            "_view_name": "LabelView",
            "description": "",
            "description_tooltip": null,
            "layout": "IPY_MODEL_acb17c8ce2f84479b987226ed7984fac",
            "placeholder": "​",
            "style": "IPY_MODEL_5893d83fb3664ca48708d81512d3ead4",
            "value": "Kaggle credentials successfully validated."
          }
        },
        "a640b5a457624c5fbfe1a0face922f56": {
          "model_module": "@jupyter-widgets/controls",
          "model_module_version": "1.5.0",
          "model_name": "HTMLModel",
          "state": {
            "_dom_classes": [],
            "_model_module": "@jupyter-widgets/controls",
            "_model_module_version": "1.5.0",
            "_model_name": "HTMLModel",
            "_view_count": null,
            "_view_module": "@jupyter-widgets/controls",
            "_view_module_version": "1.5.0",
            "_view_name": "HTMLView",
            "description": "",
            "description_tooltip": null,
            "layout": "IPY_MODEL_da421d67429d4672b394112693aff66b",
            "placeholder": "​",
            "style": "IPY_MODEL_4bd4c1180ce84ef48b5bbb241a9d1b09",
            "value": "\n<b>Thank You</b></center>"
          }
        },
        "acb17c8ce2f84479b987226ed7984fac": {
          "model_module": "@jupyter-widgets/base",
          "model_module_version": "1.2.0",
          "model_name": "LayoutModel",
          "state": {
            "_model_module": "@jupyter-widgets/base",
            "_model_module_version": "1.2.0",
            "_model_name": "LayoutModel",
            "_view_count": null,
            "_view_module": "@jupyter-widgets/base",
            "_view_module_version": "1.2.0",
            "_view_name": "LayoutView",
            "align_content": null,
            "align_items": null,
            "align_self": null,
            "border": null,
            "bottom": null,
            "display": null,
            "flex": null,
            "flex_flow": null,
            "grid_area": null,
            "grid_auto_columns": null,
            "grid_auto_flow": null,
            "grid_auto_rows": null,
            "grid_column": null,
            "grid_gap": null,
            "grid_row": null,
            "grid_template_areas": null,
            "grid_template_columns": null,
            "grid_template_rows": null,
            "height": null,
            "justify_content": null,
            "justify_items": null,
            "left": null,
            "margin": null,
            "max_height": null,
            "max_width": null,
            "min_height": null,
            "min_width": null,
            "object_fit": null,
            "object_position": null,
            "order": null,
            "overflow": null,
            "overflow_x": null,
            "overflow_y": null,
            "padding": null,
            "right": null,
            "top": null,
            "visibility": null,
            "width": null
          }
        },
        "b76112a9c8d9478fa2c6f42daa5b1b1d": {
          "model_module": "@jupyter-widgets/controls",
          "model_module_version": "1.5.0",
          "model_name": "LabelModel",
          "state": {
            "_dom_classes": [],
            "_model_module": "@jupyter-widgets/controls",
            "_model_module_version": "1.5.0",
            "_model_name": "LabelModel",
            "_view_count": null,
            "_view_module": "@jupyter-widgets/controls",
            "_view_module_version": "1.5.0",
            "_view_name": "LabelView",
            "description": "",
            "description_tooltip": null,
            "layout": "IPY_MODEL_6269d0559e1c47a1828422ab61eed5cd",
            "placeholder": "​",
            "style": "IPY_MODEL_78c90597bcf84544a14d7c2991da665e",
            "value": "Connecting..."
          }
        },
        "cfa4586982024cd89a58698714dfbaa1": {
          "model_module": "@jupyter-widgets/base",
          "model_module_version": "1.2.0",
          "model_name": "LayoutModel",
          "state": {
            "_model_module": "@jupyter-widgets/base",
            "_model_module_version": "1.2.0",
            "_model_name": "LayoutModel",
            "_view_count": null,
            "_view_module": "@jupyter-widgets/base",
            "_view_module_version": "1.2.0",
            "_view_name": "LayoutView",
            "align_content": null,
            "align_items": null,
            "align_self": null,
            "border": null,
            "bottom": null,
            "display": null,
            "flex": null,
            "flex_flow": null,
            "grid_area": null,
            "grid_auto_columns": null,
            "grid_auto_flow": null,
            "grid_auto_rows": null,
            "grid_column": null,
            "grid_gap": null,
            "grid_row": null,
            "grid_template_areas": null,
            "grid_template_columns": null,
            "grid_template_rows": null,
            "height": null,
            "justify_content": null,
            "justify_items": null,
            "left": null,
            "margin": null,
            "max_height": null,
            "max_width": null,
            "min_height": null,
            "min_width": null,
            "object_fit": null,
            "object_position": null,
            "order": null,
            "overflow": null,
            "overflow_x": null,
            "overflow_y": null,
            "padding": null,
            "right": null,
            "top": null,
            "visibility": null,
            "width": null
          }
        },
        "d04895d96aa641de835849f60d28ae2a": {
          "model_module": "@jupyter-widgets/controls",
          "model_module_version": "1.5.0",
          "model_name": "DescriptionStyleModel",
          "state": {
            "_model_module": "@jupyter-widgets/controls",
            "_model_module_version": "1.5.0",
            "_model_name": "DescriptionStyleModel",
            "_view_count": null,
            "_view_module": "@jupyter-widgets/base",
            "_view_module_version": "1.2.0",
            "_view_name": "StyleView",
            "description_width": ""
          }
        },
        "d080be7523024170a1544bb3376e7866": {
          "model_module": "@jupyter-widgets/controls",
          "model_module_version": "1.5.0",
          "model_name": "HTMLModel",
          "state": {
            "_dom_classes": [],
            "_model_module": "@jupyter-widgets/controls",
            "_model_module_version": "1.5.0",
            "_model_name": "HTMLModel",
            "_view_count": null,
            "_view_module": "@jupyter-widgets/controls",
            "_view_module_version": "1.5.0",
            "_view_name": "HTMLView",
            "description": "",
            "description_tooltip": null,
            "layout": "IPY_MODEL_440ffb6e4c0c46119296d545013ed7fd",
            "placeholder": "​",
            "style": "IPY_MODEL_d04895d96aa641de835849f60d28ae2a",
            "value": "<center> <img\nsrc=https://www.kaggle.com/static/images/site-logo.png\nalt='Kaggle'> <br> Create an API token from <a\nhref=\"https://www.kaggle.com/settings/account\" target=\"_blank\">your Kaggle\nsettings page</a> and paste it below along with your Kaggle username. <br> </center>"
          }
        },
        "d36631c356d94227a956b3e0fdd6135c": {
          "model_module": "@jupyter-widgets/controls",
          "model_module_version": "1.5.0",
          "model_name": "PasswordModel",
          "state": {
            "_dom_classes": [],
            "_model_module": "@jupyter-widgets/controls",
            "_model_module_version": "1.5.0",
            "_model_name": "PasswordModel",
            "_view_count": null,
            "_view_module": "@jupyter-widgets/controls",
            "_view_module_version": "1.5.0",
            "_view_name": "PasswordView",
            "continuous_update": true,
            "description": "Token:",
            "description_tooltip": null,
            "disabled": false,
            "layout": "IPY_MODEL_836d0f5a418f479f988926d5f70552cb",
            "placeholder": "​",
            "style": "IPY_MODEL_d54ea2d1ff244cbca82d80088400ab6b",
            "value": ""
          }
        },
        "d54ea2d1ff244cbca82d80088400ab6b": {
          "model_module": "@jupyter-widgets/controls",
          "model_module_version": "1.5.0",
          "model_name": "DescriptionStyleModel",
          "state": {
            "_model_module": "@jupyter-widgets/controls",
            "_model_module_version": "1.5.0",
            "_model_name": "DescriptionStyleModel",
            "_view_count": null,
            "_view_module": "@jupyter-widgets/base",
            "_view_module_version": "1.2.0",
            "_view_name": "StyleView",
            "description_width": ""
          }
        },
        "da421d67429d4672b394112693aff66b": {
          "model_module": "@jupyter-widgets/base",
          "model_module_version": "1.2.0",
          "model_name": "LayoutModel",
          "state": {
            "_model_module": "@jupyter-widgets/base",
            "_model_module_version": "1.2.0",
            "_model_name": "LayoutModel",
            "_view_count": null,
            "_view_module": "@jupyter-widgets/base",
            "_view_module_version": "1.2.0",
            "_view_name": "LayoutView",
            "align_content": null,
            "align_items": null,
            "align_self": null,
            "border": null,
            "bottom": null,
            "display": null,
            "flex": null,
            "flex_flow": null,
            "grid_area": null,
            "grid_auto_columns": null,
            "grid_auto_flow": null,
            "grid_auto_rows": null,
            "grid_column": null,
            "grid_gap": null,
            "grid_row": null,
            "grid_template_areas": null,
            "grid_template_columns": null,
            "grid_template_rows": null,
            "height": null,
            "justify_content": null,
            "justify_items": null,
            "left": null,
            "margin": null,
            "max_height": null,
            "max_width": null,
            "min_height": null,
            "min_width": null,
            "object_fit": null,
            "object_position": null,
            "order": null,
            "overflow": null,
            "overflow_x": null,
            "overflow_y": null,
            "padding": null,
            "right": null,
            "top": null,
            "visibility": null,
            "width": null
          }
        },
        "f736eb626b774738ae9c2886e40f4c94": {
          "model_module": "@jupyter-widgets/base",
          "model_module_version": "1.2.0",
          "model_name": "LayoutModel",
          "state": {
            "_model_module": "@jupyter-widgets/base",
            "_model_module_version": "1.2.0",
            "_model_name": "LayoutModel",
            "_view_count": null,
            "_view_module": "@jupyter-widgets/base",
            "_view_module_version": "1.2.0",
            "_view_name": "LayoutView",
            "align_content": null,
            "align_items": "center",
            "align_self": null,
            "border": null,
            "bottom": null,
            "display": "flex",
            "flex": null,
            "flex_flow": "column",
            "grid_area": null,
            "grid_auto_columns": null,
            "grid_auto_flow": null,
            "grid_auto_rows": null,
            "grid_column": null,
            "grid_gap": null,
            "grid_row": null,
            "grid_template_areas": null,
            "grid_template_columns": null,
            "grid_template_rows": null,
            "height": null,
            "justify_content": null,
            "justify_items": null,
            "left": null,
            "margin": null,
            "max_height": null,
            "max_width": null,
            "min_height": null,
            "min_width": null,
            "object_fit": null,
            "object_position": null,
            "order": null,
            "overflow": null,
            "overflow_x": null,
            "overflow_y": null,
            "padding": null,
            "right": null,
            "top": null,
            "visibility": null,
            "width": "50%"
          }
        }
      }
    }
  },
  "nbformat": 4,
  "nbformat_minor": 0
}
